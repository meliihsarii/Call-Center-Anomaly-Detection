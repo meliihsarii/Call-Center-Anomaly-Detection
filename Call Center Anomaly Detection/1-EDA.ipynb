{
  "nbformat": 4,
  "nbformat_minor": 0,
  "metadata": {
    "accelerator": "GPU",
    "colab": {
      "name": "EDA.ipynb",
      "provenance": [],
      "collapsed_sections": []
    },
    "kernelspec": {
      "display_name": "Python 3",
      "name": "python3"
    }
  },
  "cells": [
    {
      "cell_type": "markdown",
      "metadata": {
        "id": "T1NkBXbXGXHm"
      },
      "source": [
        "# IMPORTING LIBRARIES\n",
        "\n",
        "\n"
      ]
    },
    {
      "cell_type": "code",
      "metadata": {
        "id": "uwyfbF7OAtUY"
      },
      "source": [
        "import pandas as pd\n",
        "import numpy as np\n",
        "import seaborn as sns\n",
        "from datetime import datetime"
      ],
      "execution_count": null,
      "outputs": []
    },
    {
      "cell_type": "code",
      "metadata": {
        "id": "fBMOAlBXgDtO"
      },
      "source": [
        "from tensorflow import keras\n",
        "from tensorflow.keras import layers\n"
      ],
      "execution_count": null,
      "outputs": []
    },
    {
      "cell_type": "code",
      "metadata": {
        "colab": {
          "base_uri": "https://localhost:8080/"
        },
        "id": "Fcc-H59nB5Z1",
        "outputId": "b42fb93c-83e6-4257-e78c-53f8975e5174"
      },
      "source": [
        "from google.colab import drive\n",
        "drive.mount('/content/drive')"
      ],
      "execution_count": null,
      "outputs": [
        {
          "output_type": "stream",
          "text": [
            "Drive already mounted at /content/drive; to attempt to forcibly remount, call drive.mount(\"/content/drive\", force_remount=True).\n"
          ],
          "name": "stdout"
        }
      ]
    },
    {
      "cell_type": "code",
      "metadata": {
        "id": "LbDJ7-ZYCuVq"
      },
      "source": [
        "df_lokasyon = pd.read_csv(\"/content/drive/MyDrive/new_csv.csv\")"
      ],
      "execution_count": null,
      "outputs": []
    },
    {
      "cell_type": "code",
      "metadata": {
        "id": "rKrFuhvBGQs-",
        "colab": {
          "base_uri": "https://localhost:8080/",
          "height": 195
        },
        "outputId": "fbba4015-0344-4ef0-9d90-09d5bc9fd109"
      },
      "source": [
        "replaceDict={'Ý':'İ','Ð':'Ğ','Þ':'Ş','þ':'ş','ý':'ı','ð':'ğ'}\n",
        "\n",
        "for x in replaceDict:\n",
        "    df_lokasyon=df_lokasyon.replace(x,replaceDict[x],regex=True)"
      ],
      "execution_count": null,
      "outputs": [
        {
          "output_type": "error",
          "ename": "NameError",
          "evalue": "ignored",
          "traceback": [
            "\u001b[0;31m---------------------------------------------------------------------------\u001b[0m",
            "\u001b[0;31mNameError\u001b[0m                                 Traceback (most recent call last)",
            "\u001b[0;32m<ipython-input-4-43ef0f4bd299>\u001b[0m in \u001b[0;36m<module>\u001b[0;34m()\u001b[0m\n\u001b[1;32m      2\u001b[0m \u001b[0;34m\u001b[0m\u001b[0m\n\u001b[1;32m      3\u001b[0m \u001b[0;32mfor\u001b[0m \u001b[0mx\u001b[0m \u001b[0;32min\u001b[0m \u001b[0mreplaceDict\u001b[0m\u001b[0;34m:\u001b[0m\u001b[0;34m\u001b[0m\u001b[0;34m\u001b[0m\u001b[0m\n\u001b[0;32m----> 4\u001b[0;31m     \u001b[0mdf_lokasyon\u001b[0m\u001b[0;34m=\u001b[0m\u001b[0mdf_lokasyon\u001b[0m\u001b[0;34m.\u001b[0m\u001b[0mreplace\u001b[0m\u001b[0;34m(\u001b[0m\u001b[0mx\u001b[0m\u001b[0;34m,\u001b[0m\u001b[0mreplaceDict\u001b[0m\u001b[0;34m[\u001b[0m\u001b[0mx\u001b[0m\u001b[0;34m]\u001b[0m\u001b[0;34m,\u001b[0m\u001b[0mregex\u001b[0m\u001b[0;34m=\u001b[0m\u001b[0;32mTrue\u001b[0m\u001b[0;34m)\u001b[0m\u001b[0;34m\u001b[0m\u001b[0;34m\u001b[0m\u001b[0m\n\u001b[0m",
            "\u001b[0;31mNameError\u001b[0m: name 'df_lokasyon' is not defined"
          ]
        }
      ]
    },
    {
      "cell_type": "markdown",
      "metadata": {
        "id": "dkDxx1eBGRwC"
      },
      "source": [
        "# EXAMINATION OF DATA\n",
        "\n",
        "\n"
      ]
    },
    {
      "cell_type": "code",
      "metadata": {
        "id": "9AhJe7HRDjE5"
      },
      "source": [
        "df_lokasyon"
      ],
      "execution_count": null,
      "outputs": []
    },
    {
      "cell_type": "code",
      "metadata": {
        "id": "ibkctoZDEs-y"
      },
      "source": [
        "df_lokasyon.describe()"
      ],
      "execution_count": null,
      "outputs": []
    },
    {
      "cell_type": "code",
      "metadata": {
        "id": "IAB6yxsYE2iy"
      },
      "source": [
        "df_lokasyon.info()"
      ],
      "execution_count": null,
      "outputs": []
    },
    {
      "cell_type": "markdown",
      "metadata": {
        "id": "DK_GAoUbFpY5"
      },
      "source": [
        "\n",
        "\n",
        "\n",
        "## MISSING VALUES"
      ]
    },
    {
      "cell_type": "code",
      "metadata": {
        "colab": {
          "base_uri": "https://localhost:8080/",
          "height": 397
        },
        "id": "HZfB0N2qDjKN",
        "outputId": "be33e732-4865-465c-c8b9-f5f3b279e178"
      },
      "source": [
        "sns.heatmap(df_lokasyon.isnull(),yticklabels=False,cbar=False,cmap='viridis')"
      ],
      "execution_count": null,
      "outputs": [
        {
          "output_type": "execute_result",
          "data": {
            "text/plain": [
              "<matplotlib.axes._subplots.AxesSubplot at 0x7f6b16f824d0>"
            ]
          },
          "metadata": {
            "tags": []
          },
          "execution_count": 6
        },
        {
          "output_type": "display_data",
          "data": {
            "image/png": "[encoded data removed]",
            "text/plain": [
              "<Figure size 432x288 with 1 Axes>"
            ]
          },
          "metadata": {
            "tags": [],
            "needs_background": "light"
          }
        }
      ]
    },
    {
      "cell_type": "code",
      "metadata": {
        "colab": {
          "base_uri": "https://localhost:8080/"
        },
        "id": "8ipEf5hwE5kl",
        "outputId": "075f8bce-7701-4c80-efa0-0781a9f9e91d"
      },
      "source": [
        "df_lokasyon[\"X_IBB_NEIGHBOURHOOD\"].isna().sum()/df_lokasyon[\"X_IBB_NEIGHBOURHOOD\"].shape[0]"
      ],
      "execution_count": null,
      "outputs": [
        {
          "output_type": "execute_result",
          "data": {
            "text/plain": [
              "0.4959531875328999"
            ]
          },
          "metadata": {
            "tags": []
          },
          "execution_count": 7
        }
      ]
    },
    {
      "cell_type": "code",
      "metadata": {
        "colab": {
          "base_uri": "https://localhost:8080/"
        },
        "id": "RumnhSbmsBuj",
        "outputId": "a2829e9f-06a9-41a8-8aa9-cfe4849a6cbf"
      },
      "source": [
        "df_lokasyon.isna().sum()"
      ],
      "execution_count": null,
      "outputs": [
        {
          "output_type": "execute_result",
          "data": {
            "text/plain": [
              "ORG_TICKET_ID                0\n",
              "OPEN_DT                      0\n",
              "ACT_CLOSE_DT                 0\n",
              "TICKET_DESC              48493\n",
              "X_IBB_RELATED_DIV          452\n",
              "SR_AREA                      1\n",
              "SR_SUB_AREA                  1\n",
              "SR_SUBTYPE_CD                0\n",
              "SR_STAT_ID                   0\n",
              "X_IBB_COUNTY                 0\n",
              "X_IBB_NEIGHBOURHOOD    1475428\n",
              "dtype: int64"
            ]
          },
          "metadata": {
            "tags": []
          },
          "execution_count": 8
        }
      ]
    },
    {
      "cell_type": "markdown",
      "metadata": {
        "id": "MT4yb33-GsrD"
      },
      "source": [
        "## ARRANGEMENT OF COLUMN NAMES\n",
        "\n",
        "\n",
        "\n",
        "\n",
        "\n",
        "\n",
        "\n",
        "\n",
        "\n"
      ]
    },
    {
      "cell_type": "code",
      "metadata": {
        "id": "ptgXa5D8GE5I"
      },
      "source": [
        "df_lokasyon = df_lokasyon.rename(columns={'ORG_TICKET_ID': 'BASVURU_KODU', 'OPEN_DT': 'ACILIS_TARIHI', 'ACT_CLOSE_DT': 'KAPANIS_TARIHI', 'TICKET_DESC': 'BASVURU_TANIMI','X_IBB_RELATED_DIV': 'ILGILI_BIRIM', 'SR_AREA': 'KONU', 'SR_SUB_AREA': 'ALT_KONU', 'SR_SUBTYPE_CD': 'KANAL','SR_STAT_ID': 'DURUM', 'X_IBB_COUNTY': 'ILCE', 'X_IBB_NEIGHBOURHOOD': 'MAHALLE'})"
      ],
      "execution_count": null,
      "outputs": []
    },
    {
      "cell_type": "code",
      "metadata": {
        "id": "Gtg6AeoxHB6q"
      },
      "source": [
        "df_lokasyon.head()"
      ],
      "execution_count": null,
      "outputs": []
    },
    {
      "cell_type": "markdown",
      "metadata": {
        "id": "7pf88yw9IJkD"
      },
      "source": [
        "## EXAMINATION OF EACH COLUMN"
      ]
    },
    {
      "cell_type": "markdown",
      "metadata": {
        "id": "QdfTueqHJANn"
      },
      "source": [
        "İLÇE BAZINDA İNCELEME YAPTIĞIMIZDA BURADA İSTANBUL'DA YER ALMAYAN İLÇELERDEN DE ÇEŞİTLİ ÇAĞRILARIN GELDİĞİNİ TESPİT ETTİK.** İSTANBUL'DA 39 ADET İLÇE** BULUNMASINA RAĞMEN İLÇE SAYISI BAZINDA İNCELENDİĞİNDE **769 FARKLI İLÇEDEN ** GELEN ÇAĞRILAR MEVCUT. YAPACAĞIMIZ ÇALIŞMA İSTANBUL'U KAPSADIĞI İÇİN İSTANBUL DIŞI İLÇE VERİLERİNİ DF_LOKASYON VERİSİNDEN ATTIK."
      ]
    },
    {
      "cell_type": "code",
      "metadata": {
        "id": "pw6aBzFklN9W"
      },
      "source": [
        "df_lokasyon['ILCE'].unique().shape"
      ],
      "execution_count": null,
      "outputs": []
    },
    {
      "cell_type": "code",
      "metadata": {
        "id": "LJ6v3m8dIrPk",
        "colab": {
          "base_uri": "https://localhost:8080/"
        },
        "outputId": "8685ce92-0c3a-4511-edf4-74d8d0f832fc"
      },
      "source": [
        "df_lokasyon['ILCE'].value_counts()[:]"
      ],
      "execution_count": null,
      "outputs": [
        {
          "output_type": "execute_result",
          "data": {
            "text/plain": [
              "ESENYURT        175878\n",
              "BAHÇELİEVLER    148349\n",
              "FATİH           146438\n",
              "KÜÇÜKÇEKMECE    137428\n",
              "BAĞCILAR        134175\n",
              "                 ...  \n",
              "SULTANHANI           1\n",
              "BOZDOĞAN             1\n",
              "BEŞİKDÜZÜ            1\n",
              "GÜLAĞAÇ              1\n",
              "PINARBAŞI            1\n",
              "Name: ILCE, Length: 769, dtype: int64"
            ]
          },
          "metadata": {
            "tags": []
          },
          "execution_count": 10
        }
      ]
    },
    {
      "cell_type": "markdown",
      "metadata": {
        "id": "rjafUiJ-OMV3"
      },
      "source": [
        "İSTANBUL'DA 39 İLÇE YER ALIYOR, BİZ İLK 40 İLÇEYE BAKTIK VE 40. İLÇEDEN GELEN ÇAĞRI SAYISINI BAZ ALARAK İSTANBUL'DA OLMAYAN İLÇELERİ DÜŞÜRDÜK\n",
        "\n",
        "\n",
        "\n",
        "\n",
        "\n"
      ]
    },
    {
      "cell_type": "code",
      "metadata": {
        "id": "37l3r67RLdDO",
        "colab": {
          "base_uri": "https://localhost:8080/"
        },
        "outputId": "ccd4be45-b017-4884-aa56-89ff1fbdfcf2"
      },
      "source": [
        "df_lokasyon['ILCE'].value_counts()[:50]"
      ],
      "execution_count": null,
      "outputs": [
        {
          "output_type": "execute_result",
          "data": {
            "text/plain": [
              "ESENYURT         175878\n",
              "BAHÇELİEVLER     148349\n",
              "FATİH            146438\n",
              "KÜÇÜKÇEKMECE     137428\n",
              "BAĞCILAR         134175\n",
              "PENDİK           123397\n",
              "ÜMRANİYE         117917\n",
              "SULTANGAZİ       108664\n",
              "ÜSKÜDAR           97933\n",
              "BAŞAKŞEHİR        94004\n",
              "ESENLER           91543\n",
              "SANCAKTEPE        91192\n",
              "KADIKÖY           90203\n",
              "GAZİOSMANPAŞA     87312\n",
              "ARNAVUTKÖY        83757\n",
              "AVCILAR           82936\n",
              "EYÜPSULTAN        81432\n",
              "SULTANBEYLİ       80875\n",
              "KARTAL            80218\n",
              "KAĞITHANE         78584\n",
              "MALTEPE           75489\n",
              "BEYOĞLU           68176\n",
              "ATAŞEHİR          64705\n",
              "SARIYER           63126\n",
              "ŞİŞLİ             60626\n",
              "BEYKOZ            56585\n",
              "ZEYTİNBURNU       49138\n",
              "BAYRAMPAŞA        47459\n",
              "BEYLİKDÜZÜ        46838\n",
              "ÇEKMEKÖY          46689\n",
              "BAKIRKÖY          44194\n",
              "GÜNGÖREN          44127\n",
              "BÜYÜKÇEKMECE      41070\n",
              "BEŞİKTAŞ          37222\n",
              "TUZLA             35920\n",
              "SİLİVRİ           24562\n",
              "ÇATALCA            9083\n",
              "ŞİLE               8334\n",
              "ADALAR             6880\n",
              "GEBZE              1298\n",
              "MERKEZ             1016\n",
              "DARICA              396\n",
              "EDREMİT             393\n",
              "VİRANŞEHİR          366\n",
              "ÇAYIROVA            355\n",
              "KARAKÖPRÜ           317\n",
              "İZMİT               277\n",
              "ÇANKAYA             254\n",
              "ÇERKEZKÖY           246\n",
              "ŞAHİNBEY            200\n",
              "Name: ILCE, dtype: int64"
            ]
          },
          "metadata": {
            "tags": []
          },
          "execution_count": 11
        }
      ]
    },
    {
      "cell_type": "code",
      "metadata": {
        "id": "R_8ZH4qkIrYI"
      },
      "source": [
        "counts = df_lokasyon['ILCE'].value_counts()\n",
        "df_loc = df_lokasyon[~df_lokasyon['ILCE'].isin(counts[counts < 2345].index)]"
      ],
      "execution_count": null,
      "outputs": []
    },
    {
      "cell_type": "code",
      "metadata": {
        "id": "lXvx1huAHFq6"
      },
      "source": [
        "df_loc['BASVURU_KODU'].describe()"
      ],
      "execution_count": null,
      "outputs": []
    },
    {
      "cell_type": "code",
      "metadata": {
        "id": "-lMaqTtLHeQm"
      },
      "source": [
        "df_loc['ACILIS_TARIHI'].describe()"
      ],
      "execution_count": null,
      "outputs": []
    },
    {
      "cell_type": "code",
      "metadata": {
        "id": "F5zefvFtHeYz"
      },
      "source": [
        "df_loc['KAPANIS_TARIHI'].describe()"
      ],
      "execution_count": null,
      "outputs": []
    },
    {
      "cell_type": "code",
      "metadata": {
        "id": "fyR1lt6AHed_"
      },
      "source": [
        "df_loc['BASVURU_TANIMI'].describe()"
      ],
      "execution_count": null,
      "outputs": []
    },
    {
      "cell_type": "code",
      "metadata": {
        "id": "dq9GiQiFHegg"
      },
      "source": [
        "df_loc['ILGILI_BIRIM'].describe()"
      ],
      "execution_count": null,
      "outputs": []
    },
    {
      "cell_type": "code",
      "metadata": {
        "id": "V4tAp1DnHejF"
      },
      "source": [
        "df_loc['KONU'].describe()"
      ],
      "execution_count": null,
      "outputs": []
    },
    {
      "cell_type": "code",
      "metadata": {
        "id": "oTLx4uhxRDZy"
      },
      "source": [
        "df_loc['KONU'].value_counts().head(10)"
      ],
      "execution_count": null,
      "outputs": []
    },
    {
      "cell_type": "code",
      "metadata": {
        "id": "Us5KkroxHele"
      },
      "source": [
        "df_loc['ALT_KONU'].describe()"
      ],
      "execution_count": null,
      "outputs": []
    },
    {
      "cell_type": "code",
      "metadata": {
        "id": "qtbiXz47YNoY"
      },
      "source": [
        "df_loc['ALT_KONU'].value_counts().head(10)"
      ],
      "execution_count": null,
      "outputs": []
    },
    {
      "cell_type": "code",
      "metadata": {
        "id": "WjSA5QIXHenu"
      },
      "source": [
        "df_loc['KANAL'].describe()"
      ],
      "execution_count": null,
      "outputs": []
    },
    {
      "cell_type": "code",
      "metadata": {
        "id": "4RZYR9j8Heq0"
      },
      "source": [
        "df_loc['DURUM'].describe()"
      ],
      "execution_count": null,
      "outputs": []
    },
    {
      "cell_type": "code",
      "metadata": {
        "id": "sR7i44lkHetf"
      },
      "source": [
        "df_loc['ILCE'].describe()"
      ],
      "execution_count": null,
      "outputs": []
    },
    {
      "cell_type": "code",
      "metadata": {
        "id": "_CnFCoJlHjel"
      },
      "source": [
        "df_loc['MAHALLE'].describe()"
      ],
      "execution_count": null,
      "outputs": []
    },
    {
      "cell_type": "markdown",
      "metadata": {
        "id": "3QIHVWW6H_GJ"
      },
      "source": [
        "335 TANE EŞSİZ KONU DEĞERİ İÇERİSİNDEN ANOMALİYE SEBEP OLABİLECEK KONU BAŞLIKLARINI SEÇTİK."
      ]
    },
    {
      "cell_type": "code",
      "metadata": {
        "id": "XXrKWCSAShDz"
      },
      "source": [
        "df_loc['KONU'].unique()  \n",
        "#'YANGIN'  'DOĞALGAZ'  'DEPREM'   'DOĞAL AFETLER'   'AFETLER'  'KAZALAR & OLAYLAR' 'İski'  'ASANSÖRLER' 'ACİL MÜDAHALE' 'SAĞLIK HİZMETLERİ' 'EMNİYET' 'GÜVENLİK'  'GÜVENLİK VE EMNİYET'  'Arıza Başvuru' 'SU'  'DSİ'  'DERE'\n",
        "#'SOKAK HAYVANLARI' 'BAKIM ONARIM' 'İLÇE VETERİNER' 'MAZGAL'  'GÜRÜLTÜ'\n",
        "#'TALEP' 'OTOBÜSLER' 'İETT OTOBÜSLERİ' 'METROBÜS' 'MARMARAY'  'MİNİBÜS/DOLMUŞ' 'MİNİBÜS/DOLMUŞ/SERVİS/TAKSİ' 'ÇAĞRI MERKEZİ'  'EVDE BAKIM HİZMETİ' 'SOKAKTA KALANLAR' 'HAT VE GÜZERGAH'  'SEFER GECİKMESİ/İPTALİ'  \n",
        "#'RAMAZAN AYI'"
      ],
      "execution_count": null,
      "outputs": []
    },
    {
      "cell_type": "code",
      "metadata": {
        "id": "_Jnh9OSjH4Vj"
      },
      "source": [
        "df_loc['ILGILI_BIRIM'].unique()"
      ],
      "execution_count": null,
      "outputs": []
    },
    {
      "cell_type": "code",
      "metadata": {
        "id": "HbhPB9buvTDp"
      },
      "source": [
        "df_loc['ILGILI_BIRIM'].value_counts().head(10)"
      ],
      "execution_count": null,
      "outputs": []
    },
    {
      "cell_type": "code",
      "metadata": {
        "id": "rqrHOCqCH4Zj"
      },
      "source": [
        "df_loc['KANAL'].unique() "
      ],
      "execution_count": null,
      "outputs": []
    },
    {
      "cell_type": "code",
      "metadata": {
        "id": "ME9wjGMdjtjX"
      },
      "source": [
        "df_loc['KANAL'].value_counts().head(10)"
      ],
      "execution_count": null,
      "outputs": []
    },
    {
      "cell_type": "code",
      "metadata": {
        "id": "sVvHh7IDH4cD"
      },
      "source": [
        "df_loc['ILCE'].unique()"
      ],
      "execution_count": null,
      "outputs": []
    },
    {
      "cell_type": "code",
      "metadata": {
        "id": "SEeTrZrLpCMu"
      },
      "source": [
        "df_loc['ILCE'].value_counts().head(10)"
      ],
      "execution_count": null,
      "outputs": []
    },
    {
      "cell_type": "code",
      "metadata": {
        "id": "WxlNnG1LH4iU"
      },
      "source": [
        "df_loc['ALT_KONU'].unique()"
      ],
      "execution_count": null,
      "outputs": []
    },
    {
      "cell_type": "code",
      "metadata": {
        "id": "RDgrJ946Po7h"
      },
      "source": [
        "df_loc['DURUM'].unique()"
      ],
      "execution_count": null,
      "outputs": []
    },
    {
      "cell_type": "code",
      "metadata": {
        "id": "4sBpv2DUPo94"
      },
      "source": [
        "df_loc['MAHALLE'].unique()"
      ],
      "execution_count": null,
      "outputs": []
    },
    {
      "cell_type": "code",
      "metadata": {
        "id": "lNCSVGZTuRRh"
      },
      "source": [
        "df_loc['MAHALLE'].value_counts().head(10)"
      ],
      "execution_count": null,
      "outputs": []
    },
    {
      "cell_type": "code",
      "metadata": {
        "id": "9t_u6rt5uswB"
      },
      "source": [
        "df_loc"
      ],
      "execution_count": null,
      "outputs": []
    },
    {
      "cell_type": "markdown",
      "metadata": {
        "id": "Qjb2Bvz0rSrF"
      },
      "source": [
        "## HANDLING WITH MISSING VALUES\n",
        "\n",
        "\n",
        "\n",
        "\n",
        "\n"
      ]
    },
    {
      "cell_type": "markdown",
      "metadata": {
        "id": "A_NUxBzfIS4F"
      },
      "source": [
        "* MAHALLE SÜTUNUNUN YAKLAŞIK %50'LİK BİR KISMI EKSİK DEĞERLERDEN OLUŞUYORDU. BURADA SATIR BAZINDA BİR EKSİLTMEYE GİDİLDİĞİNDE 3 MİLYONLUK VERİNİN %50'LİK KISMINI KAYBETMEMEK İÇİN MAHALLE SÜTUNUNU DÜŞÜRDÜK. LOKASYON BAZINDA İHTİYACIMIZ OLAN VERİYİ İSE 'İLÇE' SÜTUNUNDAN SAĞLADIK.\n",
        "* 450 ADET NAN DEĞERE SAHİP OLAN 'İLGİLİ BİRİM' SÜTUNUNDAKİ NAN DEĞERLERİ \n",
        "DÜŞÜRMEK YERİNE 'BİLİNMİYOR' DEĞERİNİ ATADIK. \n",
        "* BU SAYEDE VERİMİZDEKİ ZAMANSAL  DESENİ BOZMAMAYA ÇALIŞTIK. "
      ]
    },
    {
      "cell_type": "code",
      "metadata": {
        "id": "7GYIbz6frY9j"
      },
      "source": [
        "df = df_loc.drop(columns='MAHALLE', axis=1)"
      ],
      "execution_count": null,
      "outputs": []
    },
    {
      "cell_type": "code",
      "metadata": {
        "colab": {
          "base_uri": "https://localhost:8080/"
        },
        "id": "wkY8i7mzrylL",
        "outputId": "d40474d8-cafa-4c01-ac65-b7f9884ba31e"
      },
      "source": [
        "df.isna().sum()"
      ],
      "execution_count": null,
      "outputs": [
        {
          "output_type": "execute_result",
          "data": {
            "text/plain": [
              "BASVURU_KODU          0\n",
              "ACILIS_TARIHI         0\n",
              "KAPANIS_TARIHI        0\n",
              "BASVURU_TANIMI    48353\n",
              "ILGILI_BIRIM        452\n",
              "KONU                  1\n",
              "ALT_KONU              1\n",
              "KANAL                 0\n",
              "DURUM                 0\n",
              "ILCE                  0\n",
              "dtype: int64"
            ]
          },
          "metadata": {
            "tags": []
          },
          "execution_count": 13
        }
      ]
    },
    {
      "cell_type": "code",
      "metadata": {
        "id": "BxwGKS4ZsbU6"
      },
      "source": [
        "df.dropna(how = 'any', axis=0, subset=['BASVURU_TANIMI'],inplace=True)"
      ],
      "execution_count": null,
      "outputs": []
    },
    {
      "cell_type": "code",
      "metadata": {
        "id": "RhKgStbDs16H",
        "colab": {
          "base_uri": "https://localhost:8080/"
        },
        "outputId": "579aa7b8-ba4c-4256-d430-9e4142616ff2"
      },
      "source": [
        "df.isna().sum()"
      ],
      "execution_count": null,
      "outputs": [
        {
          "output_type": "execute_result",
          "data": {
            "text/plain": [
              "BASVURU_KODU        0\n",
              "ACILIS_TARIHI       0\n",
              "KAPANIS_TARIHI      0\n",
              "BASVURU_TANIMI      0\n",
              "ILGILI_BIRIM      451\n",
              "KONU                1\n",
              "ALT_KONU            1\n",
              "KANAL               0\n",
              "DURUM               0\n",
              "ILCE                0\n",
              "dtype: int64"
            ]
          },
          "metadata": {
            "tags": []
          },
          "execution_count": 15
        }
      ]
    },
    {
      "cell_type": "code",
      "metadata": {
        "id": "KXxeP7S6u-oi"
      },
      "source": [
        "df.dropna(how = 'any', axis=0, subset=['KONU'],inplace=True)\n",
        "df.dropna(how = 'any', axis=0, subset=['ALT_KONU'],inplace=True)"
      ],
      "execution_count": null,
      "outputs": []
    },
    {
      "cell_type": "code",
      "metadata": {
        "id": "W0kJWaahxCL9"
      },
      "source": [
        "df['ILGILI_BIRIM'].fillna(value='BİLİNMİYOR', inplace=True)"
      ],
      "execution_count": null,
      "outputs": []
    },
    {
      "cell_type": "code",
      "metadata": {
        "colab": {
          "base_uri": "https://localhost:8080/"
        },
        "id": "b6JLOlGuxSPb",
        "outputId": "2516644c-85d7-476d-fa22-fece1f937b9f"
      },
      "source": [
        "df.isna().sum()"
      ],
      "execution_count": null,
      "outputs": [
        {
          "output_type": "execute_result",
          "data": {
            "text/plain": [
              "BASVURU_KODU      0\n",
              "ACILIS_TARIHI     0\n",
              "KAPANIS_TARIHI    0\n",
              "BASVURU_TANIMI    0\n",
              "ILGILI_BIRIM      0\n",
              "KONU              0\n",
              "ALT_KONU          0\n",
              "KANAL             0\n",
              "DURUM             0\n",
              "ILCE              0\n",
              "dtype: int64"
            ]
          },
          "metadata": {
            "tags": []
          },
          "execution_count": 18
        }
      ]
    },
    {
      "cell_type": "code",
      "metadata": {
        "id": "Vu-A9it-j9O3"
      },
      "source": [
        "df.to_csv('prepared_data.csv', index = False)\n"
      ],
      "execution_count": null,
      "outputs": []
    },
    {
      "cell_type": "markdown",
      "metadata": {
        "id": "opbDT-VFpUtB"
      },
      "source": [
        "## DETAILED REVIEW OF \"KONU\" COLUMN\n",
        "\n",
        "\n"
      ]
    },
    {
      "cell_type": "markdown",
      "metadata": {
        "id": "BF9ExtPFF6tN"
      },
      "source": [
        "## DATA VISUALIZATION"
      ]
    },
    {
      "cell_type": "code",
      "metadata": {
        "id": "1YqJLnhhF56F",
        "colab": {
          "base_uri": "https://localhost:8080/"
        },
        "outputId": "0d2760a1-7b3d-4bba-f057-895bf62d5190"
      },
      "source": [
        "df.reset_index(level=0, inplace=True)\n",
        "df.groupby('ILCE')['BASVURU_KODU'].apply(list)"
      ],
      "execution_count": null,
      "outputs": [
        {
          "output_type": "execute_result",
          "data": {
            "text/plain": [
              "ILCE\n",
              "ADALAR           [1-21114617268, 1-24736922550, 1-24831162166, ...\n",
              "ARNAVUTKÖY       [1-20937843546, 1-21001845122, 1-22462832134, ...\n",
              "ATAŞEHİR         [1-25009692916, 1-27537789314, 1-27833849165, ...\n",
              "AVCILAR          [1-20112651868, 1-20991775713, 1-24327186833, ...\n",
              "BAHÇELİEVLER     [1-20098585545, 1-20592015192, 1-20612731256, ...\n",
              "BAKIRKÖY         [1-19876485256, 1-21254144183, 1-24701405660, ...\n",
              "BAYRAMPAŞA       [1-22378045849, 1-24797932641, 1-24821482991, ...\n",
              "BAĞCILAR         [1-24546042734, 1-24764712616, 1-24820802809, ...\n",
              "BAŞAKŞEHİR       [1-21686131094, 1-22144887151, 1-24754267573, ...\n",
              "BEYKOZ           [1-24754023813, 1-25402751749, 1-25414045184, ...\n",
              "BEYLİKDÜZÜ       [1-24003930834, 1-24816132443, 1-25087359115, ...\n",
              "BEYOĞLU          [1-19650525865, 1-19969673575, 1-20098410511, ...\n",
              "BEŞİKTAŞ         [1-15193192054, 1-23006511819, 1-25055446384, ...\n",
              "BÜYÜKÇEKMECE     [1-25489287324, 1-26440556194, 1-27193021870, ...\n",
              "ESENLER          [1-18529314236, 1-24792470309, 1-25356537499, ...\n",
              "ESENYURT         [1-24532133468, 1-24697466442, 1-24707138855, ...\n",
              "EYÜPSULTAN       [1-15335992153, 1-21905150234, 1-24829985717, ...\n",
              "FATİH            [1-19874569280, 1-20094386821, 1-20385555647, ...\n",
              "GAZİOSMANPAŞA    [1-19580340287, 1-21483104009, 1-22224676024, ...\n",
              "GÜNGÖREN         [1-20816980730, 1-25133553406, 1-25375685213, ...\n",
              "KADIKÖY          [1-19955821188, 1-20256421305, 1-20985927822, ...\n",
              "KARTAL           [1-19925708275, 1-24495844522, 1-25372320952, ...\n",
              "KAĞITHANE        [1-16897632987, 1-18200618061, 1-21651587027, ...\n",
              "KÜÇÜKÇEKMECE     [1-24707257206, 1-24742920449, 1-25260040830, ...\n",
              "MALTEPE          [1-20099494447, 1-20109952822, 1-20619521084, ...\n",
              "PENDİK           [1-20581398314, 1-21087408884, 1-24698672058, ...\n",
              "SANCAKTEPE       [1-20552987341, 1-24521670984, 1-25028123312, ...\n",
              "SARIYER          [1-20122505907, 1-24184908506, 1-24480695172, ...\n",
              "SULTANBEYLİ      [1-18379874931, 1-24763339394, 1-25747229384, ...\n",
              "SULTANGAZİ       [1-16232695554, 1-20954270714, 1-22060650413, ...\n",
              "SİLİVRİ          [1-25631608224, 1-26078670041, 1-26314167434, ...\n",
              "TUZLA            [1-25658000688, 1-26167848945, 1-26895536528, ...\n",
              "ZEYTİNBURNU      [1-19694899432, 1-24999030298, 1-26381929084, ...\n",
              "ÇATALCA          [1-15931298015, 1-17190706588, 1-23550338484, ...\n",
              "ÇEKMEKÖY         [1-22328934924, 1-24426319345, 1-25900519639, ...\n",
              "ÜMRANİYE         [1-24818699402, 1-25043487571, 1-25390048724, ...\n",
              "ÜSKÜDAR          [1-24321731000, 1-24689564760, 1-24707778804, ...\n",
              "ŞİLE             [1-23655659288, 1-25400919573, 1-25844713164, ...\n",
              "ŞİŞLİ            [1-20097074242, 1-20575421028, 1-20864901721, ...\n",
              "Name: BASVURU_KODU, dtype: object"
            ]
          },
          "metadata": {
            "tags": []
          },
          "execution_count": 22
        }
      ]
    },
    {
      "cell_type": "code",
      "metadata": {
        "id": "-w4ts3ZXGChM"
      },
      "source": [
        "df_deneme = df.groupby('ILCE')['BASVURU_KODU'].count().head()"
      ],
      "execution_count": null,
      "outputs": []
    },
    {
      "cell_type": "code",
      "metadata": {
        "id": "VtJfCxdgGnYu"
      },
      "source": [
        "df_deneme = df_deneme.rename_axis('ILCE').to_frame('Başvuru_sayısı')"
      ],
      "execution_count": null,
      "outputs": []
    },
    {
      "cell_type": "code",
      "metadata": {
        "id": "wb6KHTXO6sZo",
        "colab": {
          "base_uri": "https://localhost:8080/",
          "height": 225
        },
        "outputId": "b9239b0d-1bda-4a3b-b825-943fb90b835f"
      },
      "source": [
        "df_deneme"
      ],
      "execution_count": null,
      "outputs": [
        {
          "output_type": "execute_result",
          "data": {
            "text/html": [
              "<div>\n",
              "<style scoped>\n",
              "    .dataframe tbody tr th:only-of-type {\n",
              "        vertical-align: middle;\n",
              "    }\n",
              "\n",
              "    .dataframe tbody tr th {\n",
              "        vertical-align: top;\n",
              "    }\n",
              "\n",
              "    .dataframe thead th {\n",
              "        text-align: right;\n",
              "    }\n",
              "</style>\n",
              "<table border=\"1\" class=\"dataframe\">\n",
              "  <thead>\n",
              "    <tr style=\"text-align: right;\">\n",
              "      <th></th>\n",
              "      <th>Başvuru_sayısı</th>\n",
              "    </tr>\n",
              "    <tr>\n",
              "      <th>ILCE</th>\n",
              "      <th></th>\n",
              "    </tr>\n",
              "  </thead>\n",
              "  <tbody>\n",
              "    <tr>\n",
              "      <th>ADALAR</th>\n",
              "      <td>6683</td>\n",
              "    </tr>\n",
              "    <tr>\n",
              "      <th>ARNAVUTKÖY</th>\n",
              "      <td>82298</td>\n",
              "    </tr>\n",
              "    <tr>\n",
              "      <th>ATAŞEHİR</th>\n",
              "      <td>63704</td>\n",
              "    </tr>\n",
              "    <tr>\n",
              "      <th>AVCILAR</th>\n",
              "      <td>81463</td>\n",
              "    </tr>\n",
              "    <tr>\n",
              "      <th>BAHÇELİEVLER</th>\n",
              "      <td>145786</td>\n",
              "    </tr>\n",
              "  </tbody>\n",
              "</table>\n",
              "</div>"
            ],
            "text/plain": [
              "              Başvuru_sayısı\n",
              "ILCE                        \n",
              "ADALAR                  6683\n",
              "ARNAVUTKÖY             82298\n",
              "ATAŞEHİR               63704\n",
              "AVCILAR                81463\n",
              "BAHÇELİEVLER          145786"
            ]
          },
          "metadata": {
            "tags": []
          },
          "execution_count": 25
        }
      ]
    },
    {
      "cell_type": "code",
      "metadata": {
        "id": "C8DmbVP77L8M"
      },
      "source": [
        "df_deneme.reset_index(inplace=True)"
      ],
      "execution_count": null,
      "outputs": []
    },
    {
      "cell_type": "code",
      "metadata": {
        "id": "33utzctv6WKd",
        "colab": {
          "base_uri": "https://localhost:8080/",
          "height": 195
        },
        "outputId": "ab6b05a0-6d05-419c-e2bd-68991841a156"
      },
      "source": [
        "df_deneme.head()"
      ],
      "execution_count": null,
      "outputs": [
        {
          "output_type": "execute_result",
          "data": {
            "text/html": [
              "<div>\n",
              "<style scoped>\n",
              "    .dataframe tbody tr th:only-of-type {\n",
              "        vertical-align: middle;\n",
              "    }\n",
              "\n",
              "    .dataframe tbody tr th {\n",
              "        vertical-align: top;\n",
              "    }\n",
              "\n",
              "    .dataframe thead th {\n",
              "        text-align: right;\n",
              "    }\n",
              "</style>\n",
              "<table border=\"1\" class=\"dataframe\">\n",
              "  <thead>\n",
              "    <tr style=\"text-align: right;\">\n",
              "      <th></th>\n",
              "      <th>ILCE</th>\n",
              "      <th>Başvuru_sayısı</th>\n",
              "    </tr>\n",
              "  </thead>\n",
              "  <tbody>\n",
              "    <tr>\n",
              "      <th>0</th>\n",
              "      <td>ADALAR</td>\n",
              "      <td>6683</td>\n",
              "    </tr>\n",
              "    <tr>\n",
              "      <th>1</th>\n",
              "      <td>ARNAVUTKÖY</td>\n",
              "      <td>82298</td>\n",
              "    </tr>\n",
              "    <tr>\n",
              "      <th>2</th>\n",
              "      <td>ATAŞEHİR</td>\n",
              "      <td>63704</td>\n",
              "    </tr>\n",
              "    <tr>\n",
              "      <th>3</th>\n",
              "      <td>AVCILAR</td>\n",
              "      <td>81463</td>\n",
              "    </tr>\n",
              "    <tr>\n",
              "      <th>4</th>\n",
              "      <td>BAHÇELİEVLER</td>\n",
              "      <td>145786</td>\n",
              "    </tr>\n",
              "  </tbody>\n",
              "</table>\n",
              "</div>"
            ],
            "text/plain": [
              "           ILCE  Başvuru_sayısı\n",
              "0        ADALAR            6683\n",
              "1    ARNAVUTKÖY           82298\n",
              "2      ATAŞEHİR           63704\n",
              "3       AVCILAR           81463\n",
              "4  BAHÇELİEVLER          145786"
            ]
          },
          "metadata": {
            "tags": []
          },
          "execution_count": 27
        }
      ]
    },
    {
      "cell_type": "code",
      "metadata": {
        "id": "PTNKkKbYUCZb"
      },
      "source": [
        "df_deneme = df.groupby('ILCE')['BASVURU_KODU'].count()"
      ],
      "execution_count": null,
      "outputs": []
    },
    {
      "cell_type": "code",
      "metadata": {
        "id": "Aa1mF92eUChA"
      },
      "source": [
        "df_deneme = df_deneme.rename_axis('ILCE').to_frame('Başvuru_sayısı')"
      ],
      "execution_count": null,
      "outputs": []
    },
    {
      "cell_type": "code",
      "metadata": {
        "id": "rY-kkzl6UCjz"
      },
      "source": [
        "df_deneme.reset_index(inplace=True)"
      ],
      "execution_count": null,
      "outputs": []
    },
    {
      "cell_type": "code",
      "metadata": {
        "id": "SyLoX_A0UCmR"
      },
      "source": [
        "pd.set_option('display.max_rows', None)"
      ],
      "execution_count": null,
      "outputs": []
    },
    {
      "cell_type": "code",
      "metadata": {
        "id": "fcsjf52aUCpF",
        "colab": {
          "base_uri": "https://localhost:8080/",
          "height": 1000
        },
        "outputId": "58037d93-789d-423f-8948-3bed78b8af95"
      },
      "source": [
        "df_deneme"
      ],
      "execution_count": null,
      "outputs": [
        {
          "output_type": "execute_result",
          "data": {
            "text/html": [
              "<div>\n",
              "<style scoped>\n",
              "    .dataframe tbody tr th:only-of-type {\n",
              "        vertical-align: middle;\n",
              "    }\n",
              "\n",
              "    .dataframe tbody tr th {\n",
              "        vertical-align: top;\n",
              "    }\n",
              "\n",
              "    .dataframe thead th {\n",
              "        text-align: right;\n",
              "    }\n",
              "</style>\n",
              "<table border=\"1\" class=\"dataframe\">\n",
              "  <thead>\n",
              "    <tr style=\"text-align: right;\">\n",
              "      <th></th>\n",
              "      <th>ILCE</th>\n",
              "      <th>Başvuru_sayısı</th>\n",
              "    </tr>\n",
              "  </thead>\n",
              "  <tbody>\n",
              "    <tr>\n",
              "      <th>0</th>\n",
              "      <td>ADALAR</td>\n",
              "      <td>6683</td>\n",
              "    </tr>\n",
              "    <tr>\n",
              "      <th>1</th>\n",
              "      <td>ARNAVUTKÖY</td>\n",
              "      <td>82298</td>\n",
              "    </tr>\n",
              "    <tr>\n",
              "      <th>2</th>\n",
              "      <td>ATAŞEHİR</td>\n",
              "      <td>63704</td>\n",
              "    </tr>\n",
              "    <tr>\n",
              "      <th>3</th>\n",
              "      <td>AVCILAR</td>\n",
              "      <td>81463</td>\n",
              "    </tr>\n",
              "    <tr>\n",
              "      <th>4</th>\n",
              "      <td>BAHÇELİEVLER</td>\n",
              "      <td>145786</td>\n",
              "    </tr>\n",
              "    <tr>\n",
              "      <th>5</th>\n",
              "      <td>BAKIRKÖY</td>\n",
              "      <td>43610</td>\n",
              "    </tr>\n",
              "    <tr>\n",
              "      <th>6</th>\n",
              "      <td>BAYRAMPAŞA</td>\n",
              "      <td>46741</td>\n",
              "    </tr>\n",
              "    <tr>\n",
              "      <th>7</th>\n",
              "      <td>BAĞCILAR</td>\n",
              "      <td>131723</td>\n",
              "    </tr>\n",
              "    <tr>\n",
              "      <th>8</th>\n",
              "      <td>BAŞAKŞEHİR</td>\n",
              "      <td>92601</td>\n",
              "    </tr>\n",
              "    <tr>\n",
              "      <th>9</th>\n",
              "      <td>BEYKOZ</td>\n",
              "      <td>55642</td>\n",
              "    </tr>\n",
              "    <tr>\n",
              "      <th>10</th>\n",
              "      <td>BEYLİKDÜZÜ</td>\n",
              "      <td>45934</td>\n",
              "    </tr>\n",
              "    <tr>\n",
              "      <th>11</th>\n",
              "      <td>BEYOĞLU</td>\n",
              "      <td>66687</td>\n",
              "    </tr>\n",
              "    <tr>\n",
              "      <th>12</th>\n",
              "      <td>BEŞİKTAŞ</td>\n",
              "      <td>36471</td>\n",
              "    </tr>\n",
              "    <tr>\n",
              "      <th>13</th>\n",
              "      <td>BÜYÜKÇEKMECE</td>\n",
              "      <td>40374</td>\n",
              "    </tr>\n",
              "    <tr>\n",
              "      <th>14</th>\n",
              "      <td>ESENLER</td>\n",
              "      <td>89655</td>\n",
              "    </tr>\n",
              "    <tr>\n",
              "      <th>15</th>\n",
              "      <td>ESENYURT</td>\n",
              "      <td>172169</td>\n",
              "    </tr>\n",
              "    <tr>\n",
              "      <th>16</th>\n",
              "      <td>EYÜPSULTAN</td>\n",
              "      <td>80316</td>\n",
              "    </tr>\n",
              "    <tr>\n",
              "      <th>17</th>\n",
              "      <td>FATİH</td>\n",
              "      <td>144582</td>\n",
              "    </tr>\n",
              "    <tr>\n",
              "      <th>18</th>\n",
              "      <td>GAZİOSMANPAŞA</td>\n",
              "      <td>85843</td>\n",
              "    </tr>\n",
              "    <tr>\n",
              "      <th>19</th>\n",
              "      <td>GÜNGÖREN</td>\n",
              "      <td>43422</td>\n",
              "    </tr>\n",
              "    <tr>\n",
              "      <th>20</th>\n",
              "      <td>KADIKÖY</td>\n",
              "      <td>89206</td>\n",
              "    </tr>\n",
              "    <tr>\n",
              "      <th>21</th>\n",
              "      <td>KARTAL</td>\n",
              "      <td>78428</td>\n",
              "    </tr>\n",
              "    <tr>\n",
              "      <th>22</th>\n",
              "      <td>KAĞITHANE</td>\n",
              "      <td>77334</td>\n",
              "    </tr>\n",
              "    <tr>\n",
              "      <th>23</th>\n",
              "      <td>KÜÇÜKÇEKMECE</td>\n",
              "      <td>135371</td>\n",
              "    </tr>\n",
              "    <tr>\n",
              "      <th>24</th>\n",
              "      <td>MALTEPE</td>\n",
              "      <td>74493</td>\n",
              "    </tr>\n",
              "    <tr>\n",
              "      <th>25</th>\n",
              "      <td>PENDİK</td>\n",
              "      <td>121648</td>\n",
              "    </tr>\n",
              "    <tr>\n",
              "      <th>26</th>\n",
              "      <td>SANCAKTEPE</td>\n",
              "      <td>89515</td>\n",
              "    </tr>\n",
              "    <tr>\n",
              "      <th>27</th>\n",
              "      <td>SARIYER</td>\n",
              "      <td>62302</td>\n",
              "    </tr>\n",
              "    <tr>\n",
              "      <th>28</th>\n",
              "      <td>SULTANBEYLİ</td>\n",
              "      <td>79523</td>\n",
              "    </tr>\n",
              "    <tr>\n",
              "      <th>29</th>\n",
              "      <td>SULTANGAZİ</td>\n",
              "      <td>106698</td>\n",
              "    </tr>\n",
              "    <tr>\n",
              "      <th>30</th>\n",
              "      <td>SİLİVRİ</td>\n",
              "      <td>24259</td>\n",
              "    </tr>\n",
              "    <tr>\n",
              "      <th>31</th>\n",
              "      <td>TUZLA</td>\n",
              "      <td>35387</td>\n",
              "    </tr>\n",
              "    <tr>\n",
              "      <th>32</th>\n",
              "      <td>ZEYTİNBURNU</td>\n",
              "      <td>48330</td>\n",
              "    </tr>\n",
              "    <tr>\n",
              "      <th>33</th>\n",
              "      <td>ÇATALCA</td>\n",
              "      <td>8994</td>\n",
              "    </tr>\n",
              "    <tr>\n",
              "      <th>34</th>\n",
              "      <td>ÇEKMEKÖY</td>\n",
              "      <td>45943</td>\n",
              "    </tr>\n",
              "    <tr>\n",
              "      <th>35</th>\n",
              "      <td>ÜMRANİYE</td>\n",
              "      <td>116276</td>\n",
              "    </tr>\n",
              "    <tr>\n",
              "      <th>36</th>\n",
              "      <td>ÜSKÜDAR</td>\n",
              "      <td>96634</td>\n",
              "    </tr>\n",
              "    <tr>\n",
              "      <th>37</th>\n",
              "      <td>ŞİLE</td>\n",
              "      <td>8281</td>\n",
              "    </tr>\n",
              "    <tr>\n",
              "      <th>38</th>\n",
              "      <td>ŞİŞLİ</td>\n",
              "      <td>59778</td>\n",
              "    </tr>\n",
              "  </tbody>\n",
              "</table>\n",
              "</div>"
            ],
            "text/plain": [
              "             ILCE  Başvuru_sayısı\n",
              "0          ADALAR            6683\n",
              "1      ARNAVUTKÖY           82298\n",
              "2        ATAŞEHİR           63704\n",
              "3         AVCILAR           81463\n",
              "4    BAHÇELİEVLER          145786\n",
              "5        BAKIRKÖY           43610\n",
              "6      BAYRAMPAŞA           46741\n",
              "7        BAĞCILAR          131723\n",
              "8      BAŞAKŞEHİR           92601\n",
              "9          BEYKOZ           55642\n",
              "10     BEYLİKDÜZÜ           45934\n",
              "11        BEYOĞLU           66687\n",
              "12       BEŞİKTAŞ           36471\n",
              "13   BÜYÜKÇEKMECE           40374\n",
              "14        ESENLER           89655\n",
              "15       ESENYURT          172169\n",
              "16     EYÜPSULTAN           80316\n",
              "17          FATİH          144582\n",
              "18  GAZİOSMANPAŞA           85843\n",
              "19       GÜNGÖREN           43422\n",
              "20        KADIKÖY           89206\n",
              "21         KARTAL           78428\n",
              "22      KAĞITHANE           77334\n",
              "23   KÜÇÜKÇEKMECE          135371\n",
              "24        MALTEPE           74493\n",
              "25         PENDİK          121648\n",
              "26     SANCAKTEPE           89515\n",
              "27        SARIYER           62302\n",
              "28    SULTANBEYLİ           79523\n",
              "29     SULTANGAZİ          106698\n",
              "30        SİLİVRİ           24259\n",
              "31          TUZLA           35387\n",
              "32    ZEYTİNBURNU           48330\n",
              "33        ÇATALCA            8994\n",
              "34       ÇEKMEKÖY           45943\n",
              "35       ÜMRANİYE          116276\n",
              "36        ÜSKÜDAR           96634\n",
              "37           ŞİLE            8281\n",
              "38          ŞİŞLİ           59778"
            ]
          },
          "metadata": {
            "tags": []
          },
          "execution_count": 32
        }
      ]
    },
    {
      "cell_type": "code",
      "metadata": {
        "id": "ln4JqXxvUCro"
      },
      "source": [
        "df_deneme2 = df_deneme.sort_values(by = ['Başvuru_sayısı'], ascending=False)"
      ],
      "execution_count": null,
      "outputs": []
    },
    {
      "cell_type": "code",
      "metadata": {
        "id": "EY8lrcqhUa4y"
      },
      "source": [
        "x = df_deneme2['ILCE']"
      ],
      "execution_count": null,
      "outputs": []
    },
    {
      "cell_type": "code",
      "metadata": {
        "id": "_9CuQHFMUa7j"
      },
      "source": [
        "y = df_deneme2['Başvuru_sayısı']"
      ],
      "execution_count": null,
      "outputs": []
    },
    {
      "cell_type": "code",
      "metadata": {
        "id": "4-CQbkmMwaaQ",
        "colab": {
          "base_uri": "https://localhost:8080/"
        },
        "outputId": "8912a3d8-af70-4ad2-9b22-25fd68378d0d"
      },
      "source": [
        "df[\"ILCE\"].value_counts()"
      ],
      "execution_count": null,
      "outputs": [
        {
          "output_type": "execute_result",
          "data": {
            "text/plain": [
              "ESENYURT         172169\n",
              "BAHÇELİEVLER     145786\n",
              "FATİH            144582\n",
              "KÜÇÜKÇEKMECE     135371\n",
              "BAĞCILAR         131723\n",
              "PENDİK           121648\n",
              "ÜMRANİYE         116276\n",
              "SULTANGAZİ       106698\n",
              "ÜSKÜDAR           96634\n",
              "BAŞAKŞEHİR        92601\n",
              "ESENLER           89655\n",
              "SANCAKTEPE        89515\n",
              "KADIKÖY           89206\n",
              "GAZİOSMANPAŞA     85843\n",
              "ARNAVUTKÖY        82298\n",
              "AVCILAR           81463\n",
              "EYÜPSULTAN        80316\n",
              "SULTANBEYLİ       79523\n",
              "KARTAL            78428\n",
              "KAĞITHANE         77334\n",
              "MALTEPE           74493\n",
              "BEYOĞLU           66687\n",
              "ATAŞEHİR          63704\n",
              "SARIYER           62302\n",
              "ŞİŞLİ             59778\n",
              "BEYKOZ            55642\n",
              "ZEYTİNBURNU       48330\n",
              "BAYRAMPAŞA        46741\n",
              "ÇEKMEKÖY          45943\n",
              "BEYLİKDÜZÜ        45934\n",
              "BAKIRKÖY          43610\n",
              "GÜNGÖREN          43422\n",
              "BÜYÜKÇEKMECE      40374\n",
              "BEŞİKTAŞ          36471\n",
              "TUZLA             35387\n",
              "SİLİVRİ           24259\n",
              "ÇATALCA            8994\n",
              "ŞİLE               8281\n",
              "ADALAR             6683\n",
              "Name: ILCE, dtype: int64"
            ]
          },
          "metadata": {
            "tags": []
          },
          "execution_count": 36
        }
      ]
    }
  ]
}