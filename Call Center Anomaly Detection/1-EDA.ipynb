{
  "nbformat": 4,
  "nbformat_minor": 0,
  "metadata": {
    "accelerator": "GPU",
    "colab": {
      "name": "EDA.ipynb",
      "provenance": [],
      "collapsed_sections": []
    },
    "kernelspec": {
      "display_name": "Python 3",
      "name": "python3"
    }
  },
  "cells": [
    {
      "cell_type": "markdown",
      "metadata": {
        "id": "T1NkBXbXGXHm"
      },
      "source": [
        "# IMPORTING LIBRARIES\n",
        "\n",
        "\n"
      ]
    },
    {
      "cell_type": "code",
      "metadata": {
        "id": "uwyfbF7OAtUY"
      },
      "source": [
        "import pandas as pd\n",
        "import numpy as np\n",
        "import seaborn as sns\n",
        "from datetime import datetime"
      ],
      "execution_count": null,
      "outputs": []
    },
    {
      "cell_type": "code",
      "metadata": {
        "id": "fBMOAlBXgDtO"
      },
      "source": [
        "from tensorflow import keras\n",
        "from tensorflow.keras import layers\n"
      ],
      "execution_count": null,
      "outputs": []
    },
    {
      "cell_type": "code",
      "metadata": {
        "colab": {
          "base_uri": "https://localhost:8080/"
        },
        "id": "Fcc-H59nB5Z1",
        "outputId": "1bd7e570-1c9e-46df-ab0e-f16d2212712c"
      },
      "source": [
        "from google.colab import drive\n",
        "drive.mount('/content/drive')"
      ],
      "execution_count": null,
      "outputs": [
        {
          "output_type": "stream",
          "text": [
            "Mounted at /content/drive\n"
          ],
          "name": "stdout"
        }
      ]
    },
    {
      "cell_type": "code",
      "metadata": {
        "id": "LbDJ7-ZYCuVq"
      },
      "source": [
        "df_lokasyon = pd.read_csv(\"/content/drive/MyDrive/new_csv.csv\")"
      ],
      "execution_count": null,
      "outputs": []
    },
    {
      "cell_type": "code",
      "metadata": {
        "id": "rKrFuhvBGQs-"
      },
      "source": [
        "replaceDict={'Ý':'İ','Ð':'Ğ','Þ':'Ş','þ':'ş','ý':'ı','ð':'ğ'}\n",
        "\n",
        "for x in replaceDict:\n",
        "    df_lokasyon=df_lokasyon.replace(x,replaceDict[x],regex=True)"
      ],
      "execution_count": null,
      "outputs": []
    },
    {
      "cell_type": "markdown",
      "metadata": {
        "id": "dkDxx1eBGRwC"
      },
      "source": [
        "# EXAMINATION OF DATA\n",
        "\n",
        "\n"
      ]
    },
    {
      "cell_type": "code",
      "metadata": {
        "id": "9AhJe7HRDjE5"
      },
      "source": [
        "df_lokasyon"
      ],
      "execution_count": null,
      "outputs": []
    },
    {
      "cell_type": "code",
      "metadata": {
        "id": "ibkctoZDEs-y"
      },
      "source": [
        "df_lokasyon.describe()"
      ],
      "execution_count": null,
      "outputs": []
    },
    {
      "cell_type": "code",
      "metadata": {
        "id": "IAB6yxsYE2iy"
      },
      "source": [
        "df_lokasyon.info()"
      ],
      "execution_count": null,
      "outputs": []
    },
    {
      "cell_type": "markdown",
      "metadata": {
        "id": "DK_GAoUbFpY5"
      },
      "source": [
        "\n",
        "\n",
        "\n",
        "## MISSING VALUES"
      ]
    },
    {
      "cell_type": "code",
      "metadata": {
        "id": "HZfB0N2qDjKN"
      },
      "source": [
        "sns.heatmap(df_lokasyon.isnull(),yticklabels=False,cbar=False,cmap='viridis')"
      ],
      "execution_count": null,
      "outputs": []
    },
    {
      "cell_type": "code",
      "metadata": {
        "id": "8ipEf5hwE5kl"
      },
      "source": [
        "df_lokasyon[\"X_IBB_NEIGHBOURHOOD\"].isna().sum()/df_lokasyon[\"X_IBB_NEIGHBOURHOOD\"].shape[0]"
      ],
      "execution_count": null,
      "outputs": []
    },
    {
      "cell_type": "code",
      "metadata": {
        "id": "RumnhSbmsBuj"
      },
      "source": [
        "df_lokasyon.isna().sum()"
      ],
      "execution_count": null,
      "outputs": []
    },
    {
      "cell_type": "markdown",
      "metadata": {
        "id": "MT4yb33-GsrD"
      },
      "source": [
        "## ARRANGEMENT OF COLUMN NAMES\n",
        "\n",
        "\n",
        "\n",
        "\n",
        "\n",
        "\n",
        "\n",
        "\n",
        "\n"
      ]
    },
    {
      "cell_type": "code",
      "metadata": {
        "id": "ptgXa5D8GE5I"
      },
      "source": [
        "df_lokasyon = df_lokasyon.rename(columns={'ORG_TICKET_ID': 'BASVURU_KODU', 'OPEN_DT': 'ACILIS_TARIHI', 'ACT_CLOSE_DT': 'KAPANIS_TARIHI', 'TICKET_DESC': 'BASVURU_TANIMI','X_IBB_RELATED_DIV': 'ILGILI_BIRIM', 'SR_AREA': 'KONU', 'SR_SUB_AREA': 'ALT_KONU', 'SR_SUBTYPE_CD': 'KANAL','SR_STAT_ID': 'DURUM', 'X_IBB_COUNTY': 'ILCE', 'X_IBB_NEIGHBOURHOOD': 'MAHALLE'})"
      ],
      "execution_count": null,
      "outputs": []
    },
    {
      "cell_type": "code",
      "metadata": {
        "id": "Gtg6AeoxHB6q"
      },
      "source": [
        "df_lokasyon.head()"
      ],
      "execution_count": null,
      "outputs": []
    },
    {
      "cell_type": "markdown",
      "metadata": {
        "id": "7pf88yw9IJkD"
      },
      "source": [
        "## EXAMINATION OF EACH COLUMN"
      ]
    },
    {
      "cell_type": "markdown",
      "metadata": {
        "id": "QdfTueqHJANn"
      },
      "source": [
        "İLÇE BAZINDA İNCELEME YAPTIĞIMIZDA BURADA İSTANBUL'DA YER ALMAYAN İLÇELERDEN DE ÇEŞİTLİ ÇAĞRILARIN GELDİĞİNİ TESPİT ETTİK.** İSTANBUL'DA 39 ADET İLÇE** BULUNMASINA RAĞMEN İLÇE SAYISI BAZINDA İNCELENDİĞİNDE **769 FARKLI İLÇEDEN ** GELEN ÇAĞRILAR MEVCUT. YAPACAĞIMIZ ÇALIŞMA İSTANBUL'U KAPSADIĞI İÇİN İSTANBUL DIŞI İLÇE VERİLERİNİ DF_LOKASYON VERİSİNDEN ATTIK."
      ]
    },
    {
      "cell_type": "code",
      "metadata": {
        "id": "pw6aBzFklN9W"
      },
      "source": [
        "df_lokasyon['ILCE'].unique().shape"
      ],
      "execution_count": null,
      "outputs": []
    },
    {
      "cell_type": "code",
      "metadata": {
        "id": "LJ6v3m8dIrPk"
      },
      "source": [
        "df_lokasyon['ILCE'].value_counts()[:]"
      ],
      "execution_count": null,
      "outputs": []
    },
    {
      "cell_type": "markdown",
      "metadata": {
        "id": "rjafUiJ-OMV3"
      },
      "source": [
        "İSTANBUL'DA 39 İLÇE YER ALIYOR, BİZ İLK 40 İLÇEYE BAKTIK VE 40. İLÇEDEN GELEN ÇAĞRI SAYISINI BAZ ALARAK İSTANBUL'DA OLMAYAN İLÇELERİ DÜŞÜRDÜK\n",
        "\n",
        "\n",
        "\n",
        "\n",
        "\n"
      ]
    },
    {
      "cell_type": "code",
      "metadata": {
        "id": "37l3r67RLdDO"
      },
      "source": [
        "df_lokasyon['ILCE'].value_counts()[:50]"
      ],
      "execution_count": null,
      "outputs": []
    },
    {
      "cell_type": "code",
      "metadata": {
        "id": "R_8ZH4qkIrYI"
      },
      "source": [
        "counts = df_lokasyon['ILCE'].value_counts()\n",
        "df_loc = df_lokasyon[~df_lokasyon['ILCE'].isin(counts[counts < 2345].index)]"
      ],
      "execution_count": null,
      "outputs": []
    },
    {
      "cell_type": "code",
      "metadata": {
        "id": "lXvx1huAHFq6"
      },
      "source": [
        "df_loc['BASVURU_KODU'].describe()"
      ],
      "execution_count": null,
      "outputs": []
    },
    {
      "cell_type": "code",
      "metadata": {
        "id": "-lMaqTtLHeQm"
      },
      "source": [
        "df_loc['ACILIS_TARIHI'].describe()"
      ],
      "execution_count": null,
      "outputs": []
    },
    {
      "cell_type": "code",
      "metadata": {
        "id": "F5zefvFtHeYz"
      },
      "source": [
        "df_loc['KAPANIS_TARIHI'].describe()"
      ],
      "execution_count": null,
      "outputs": []
    },
    {
      "cell_type": "code",
      "metadata": {
        "id": "fyR1lt6AHed_"
      },
      "source": [
        "df_loc['BASVURU_TANIMI'].describe()"
      ],
      "execution_count": null,
      "outputs": []
    },
    {
      "cell_type": "code",
      "metadata": {
        "id": "dq9GiQiFHegg"
      },
      "source": [
        "df_loc['ILGILI_BIRIM'].describe()"
      ],
      "execution_count": null,
      "outputs": []
    },
    {
      "cell_type": "code",
      "metadata": {
        "id": "V4tAp1DnHejF"
      },
      "source": [
        "df_loc['KONU'].describe()"
      ],
      "execution_count": null,
      "outputs": []
    },
    {
      "cell_type": "code",
      "metadata": {
        "id": "oTLx4uhxRDZy"
      },
      "source": [
        "df_loc['KONU'].value_counts().head(10)"
      ],
      "execution_count": null,
      "outputs": []
    },
    {
      "cell_type": "code",
      "metadata": {
        "id": "Us5KkroxHele"
      },
      "source": [
        "df_loc['ALT_KONU'].describe()"
      ],
      "execution_count": null,
      "outputs": []
    },
    {
      "cell_type": "code",
      "metadata": {
        "id": "qtbiXz47YNoY"
      },
      "source": [
        "df_loc['ALT_KONU'].value_counts().head(10)"
      ],
      "execution_count": null,
      "outputs": []
    },
    {
      "cell_type": "code",
      "metadata": {
        "id": "WjSA5QIXHenu"
      },
      "source": [
        "df_loc['KANAL'].describe()"
      ],
      "execution_count": null,
      "outputs": []
    },
    {
      "cell_type": "code",
      "metadata": {
        "id": "4RZYR9j8Heq0"
      },
      "source": [
        "df_loc['DURUM'].describe()"
      ],
      "execution_count": null,
      "outputs": []
    },
    {
      "cell_type": "code",
      "metadata": {
        "id": "sR7i44lkHetf"
      },
      "source": [
        "df_loc['ILCE'].describe()"
      ],
      "execution_count": null,
      "outputs": []
    },
    {
      "cell_type": "code",
      "metadata": {
        "id": "_CnFCoJlHjel"
      },
      "source": [
        "df_loc['MAHALLE'].describe()"
      ],
      "execution_count": null,
      "outputs": []
    },
    {
      "cell_type": "markdown",
      "metadata": {
        "id": "3QIHVWW6H_GJ"
      },
      "source": [
        "335 TANE EŞSİZ KONU DEĞERİ İÇERİSİNDEN ANOMALİYE SEBEP OLABİLECEK KONU BAŞLIKLARINI SEÇTİK."
      ]
    },
    {
      "cell_type": "code",
      "metadata": {
        "id": "XXrKWCSAShDz"
      },
      "source": [
        "df_loc['KONU'].unique()  \n",
        "#'YANGIN'  'DOĞALGAZ'  'DEPREM'   'DOĞAL AFETLER'   'AFETLER'  'KAZALAR & OLAYLAR' 'İski'  'ASANSÖRLER' 'ACİL MÜDAHALE' 'SAĞLIK HİZMETLERİ' 'EMNİYET' 'GÜVENLİK'  'GÜVENLİK VE EMNİYET'  'Arıza Başvuru' 'SU'  'DSİ'  'DERE'\n",
        "#'SOKAK HAYVANLARI' 'BAKIM ONARIM' 'İLÇE VETERİNER' 'MAZGAL'  'GÜRÜLTÜ'\n",
        "#'TALEP' 'OTOBÜSLER' 'İETT OTOBÜSLERİ' 'METROBÜS' 'MARMARAY'  'MİNİBÜS/DOLMUŞ' 'MİNİBÜS/DOLMUŞ/SERVİS/TAKSİ' 'ÇAĞRI MERKEZİ'  'EVDE BAKIM HİZMETİ' 'SOKAKTA KALANLAR' 'HAT VE GÜZERGAH'  'SEFER GECİKMESİ/İPTALİ'  \n",
        "#'RAMAZAN AYI'"
      ],
      "execution_count": null,
      "outputs": []
    },
    {
      "cell_type": "code",
      "metadata": {
        "id": "_Jnh9OSjH4Vj"
      },
      "source": [
        "df_loc['ILGILI_BIRIM'].unique()"
      ],
      "execution_count": null,
      "outputs": []
    },
    {
      "cell_type": "code",
      "metadata": {
        "id": "HbhPB9buvTDp"
      },
      "source": [
        "df_loc['ILGILI_BIRIM'].value_counts().head(10)"
      ],
      "execution_count": null,
      "outputs": []
    },
    {
      "cell_type": "code",
      "metadata": {
        "id": "rqrHOCqCH4Zj"
      },
      "source": [
        "df_loc['KANAL'].unique() "
      ],
      "execution_count": null,
      "outputs": []
    },
    {
      "cell_type": "code",
      "metadata": {
        "id": "ME9wjGMdjtjX"
      },
      "source": [
        "df_loc['KANAL'].value_counts().head(10)"
      ],
      "execution_count": null,
      "outputs": []
    },
    {
      "cell_type": "code",
      "metadata": {
        "id": "sVvHh7IDH4cD"
      },
      "source": [
        "df_loc['ILCE'].unique()"
      ],
      "execution_count": null,
      "outputs": []
    },
    {
      "cell_type": "code",
      "metadata": {
        "id": "SEeTrZrLpCMu"
      },
      "source": [
        "df_loc['ILCE'].value_counts().head(10)"
      ],
      "execution_count": null,
      "outputs": []
    },
    {
      "cell_type": "code",
      "metadata": {
        "id": "WxlNnG1LH4iU"
      },
      "source": [
        "df_loc['ALT_KONU'].unique()"
      ],
      "execution_count": null,
      "outputs": []
    },
    {
      "cell_type": "code",
      "metadata": {
        "id": "RDgrJ946Po7h"
      },
      "source": [
        "df_loc['DURUM'].unique()"
      ],
      "execution_count": null,
      "outputs": []
    },
    {
      "cell_type": "code",
      "metadata": {
        "id": "4sBpv2DUPo94"
      },
      "source": [
        "df_loc['MAHALLE'].unique()"
      ],
      "execution_count": null,
      "outputs": []
    },
    {
      "cell_type": "code",
      "metadata": {
        "id": "lNCSVGZTuRRh"
      },
      "source": [
        "df_loc['MAHALLE'].value_counts().head(10)"
      ],
      "execution_count": null,
      "outputs": []
    },
    {
      "cell_type": "code",
      "metadata": {
        "id": "9t_u6rt5uswB"
      },
      "source": [
        "df_loc"
      ],
      "execution_count": null,
      "outputs": []
    },
    {
      "cell_type": "markdown",
      "metadata": {
        "id": "Qjb2Bvz0rSrF"
      },
      "source": [
        "## HANDLING WITH MISSING VALUES\n",
        "\n",
        "\n",
        "\n",
        "\n",
        "\n"
      ]
    },
    {
      "cell_type": "markdown",
      "metadata": {
        "id": "A_NUxBzfIS4F"
      },
      "source": [
        "* MAHALLE SÜTUNUNUN YAKLAŞIK %50'LİK BİR KISMI EKSİK DEĞERLERDEN OLUŞUYORDU. BURADA SATIR BAZINDA BİR EKSİLTMEYE GİDİLDİĞİNDE 3 MİLYONLUK VERİNİN %50'LİK KISMINI KAYBETMEMEK İÇİN MAHALLE SÜTUNUNU DÜŞÜRDÜK. LOKASYON BAZINDA İHTİYACIMIZ OLAN VERİYİ İSE 'İLÇE' SÜTUNUNDAN SAĞLADIK.\n",
        "* 450 ADET NAN DEĞERE SAHİP OLAN 'İLGİLİ BİRİM' SÜTUNUNDAKİ NAN DEĞERLERİ \n",
        "DÜŞÜRMEK YERİNE 'BİLİNMİYOR' DEĞERİNİ ATADIK. \n",
        "* BU SAYEDE VERİMİZDEKİ ZAMANSAL  DESENİ BOZMAMAYA ÇALIŞTIK. "
      ]
    },
    {
      "cell_type": "code",
      "metadata": {
        "id": "7GYIbz6frY9j"
      },
      "source": [
        "df = df_loc.drop(columns='MAHALLE', axis=1)"
      ],
      "execution_count": null,
      "outputs": []
    },
    {
      "cell_type": "code",
      "metadata": {
        "id": "wkY8i7mzrylL"
      },
      "source": [
        "df.isna().sum()"
      ],
      "execution_count": null,
      "outputs": []
    },
    {
      "cell_type": "code",
      "metadata": {
        "id": "BxwGKS4ZsbU6"
      },
      "source": [
        "df.dropna(how = 'any', axis=0, subset=['BASVURU_TANIMI'],inplace=True)"
      ],
      "execution_count": null,
      "outputs": []
    },
    {
      "cell_type": "code",
      "metadata": {
        "id": "RhKgStbDs16H"
      },
      "source": [
        "df.isna().sum()"
      ],
      "execution_count": null,
      "outputs": []
    },
    {
      "cell_type": "code",
      "metadata": {
        "id": "KXxeP7S6u-oi"
      },
      "source": [
        "df.dropna(how = 'any', axis=0, subset=['KONU'],inplace=True)\n",
        "df.dropna(how = 'any', axis=0, subset=['ALT_KONU'],inplace=True)"
      ],
      "execution_count": null,
      "outputs": []
    },
    {
      "cell_type": "code",
      "metadata": {
        "id": "W0kJWaahxCL9"
      },
      "source": [
        "df['ILGILI_BIRIM'].fillna(value='BİLİNMİYOR', inplace=True)"
      ],
      "execution_count": null,
      "outputs": []
    },
    {
      "cell_type": "code",
      "metadata": {
        "id": "b6JLOlGuxSPb"
      },
      "source": [
        "df.isna().sum()"
      ],
      "execution_count": null,
      "outputs": []
    },
    {
      "cell_type": "code",
      "metadata": {
        "id": "Vu-A9it-j9O3"
      },
      "source": [
        "df.to_csv('prepared_data.csv', index = False)\n"
      ],
      "execution_count": null,
      "outputs": []
    },
    {
      "cell_type": "markdown",
      "metadata": {
        "id": "opbDT-VFpUtB"
      },
      "source": [
        "## DETAILED REVIEW OF \"KONU\" COLUMN\n",
        "\n",
        "\n"
      ]
    },
    {
      "cell_type": "markdown",
      "metadata": {
        "id": "BF9ExtPFF6tN"
      },
      "source": [
        "## DATA VISUALIZATION"
      ]
    },
    {
      "cell_type": "code",
      "metadata": {
        "id": "1YqJLnhhF56F"
      },
      "source": [
        "df.reset_index(level=0, inplace=True)\n",
        "df.groupby('ILCE')['BASVURU_KODU'].apply(list)"
      ],
      "execution_count": null,
      "outputs": []
    },
    {
      "cell_type": "code",
      "metadata": {
        "id": "-w4ts3ZXGChM"
      },
      "source": [
        "df_deneme = df.groupby('ILCE')['BASVURU_KODU'].count().head()"
      ],
      "execution_count": null,
      "outputs": []
    },
    {
      "cell_type": "code",
      "metadata": {
        "id": "VtJfCxdgGnYu"
      },
      "source": [
        "df_deneme = df_deneme.rename_axis('ILCE').to_frame('Başvuru_sayısı')"
      ],
      "execution_count": null,
      "outputs": []
    },
    {
      "cell_type": "code",
      "metadata": {
        "id": "wb6KHTXO6sZo"
      },
      "source": [
        "df_deneme"
      ],
      "execution_count": null,
      "outputs": []
    },
    {
      "cell_type": "code",
      "metadata": {
        "id": "C8DmbVP77L8M"
      },
      "source": [
        "df_deneme.reset_index(inplace=True)"
      ],
      "execution_count": null,
      "outputs": []
    },
    {
      "cell_type": "code",
      "metadata": {
        "id": "33utzctv6WKd"
      },
      "source": [
        "df_deneme.head()"
      ],
      "execution_count": null,
      "outputs": []
    },
    {
      "cell_type": "code",
      "metadata": {
        "id": "PTNKkKbYUCZb"
      },
      "source": [
        "df_deneme = df.groupby('ILCE')['BASVURU_KODU'].count()"
      ],
      "execution_count": null,
      "outputs": []
    },
    {
      "cell_type": "code",
      "metadata": {
        "id": "Aa1mF92eUChA"
      },
      "source": [
        "df_deneme = df_deneme.rename_axis('ILCE').to_frame('Başvuru_sayısı')"
      ],
      "execution_count": null,
      "outputs": []
    },
    {
      "cell_type": "code",
      "metadata": {
        "id": "rY-kkzl6UCjz"
      },
      "source": [
        "df_deneme.reset_index(inplace=True)"
      ],
      "execution_count": null,
      "outputs": []
    },
    {
      "cell_type": "code",
      "metadata": {
        "id": "SyLoX_A0UCmR"
      },
      "source": [
        "pd.set_option('display.max_rows', None)"
      ],
      "execution_count": null,
      "outputs": []
    },
    {
      "cell_type": "code",
      "metadata": {
        "id": "fcsjf52aUCpF"
      },
      "source": [
        "df_deneme"
      ],
      "execution_count": null,
      "outputs": []
    },
    {
      "cell_type": "code",
      "metadata": {
        "id": "ln4JqXxvUCro"
      },
      "source": [
        "df_deneme2 = df_deneme.sort_values(by = ['Başvuru_sayısı'], ascending=False)"
      ],
      "execution_count": null,
      "outputs": []
    },
    {
      "cell_type": "code",
      "metadata": {
        "id": "EY8lrcqhUa4y"
      },
      "source": [
        "x = df_deneme2['ILCE']"
      ],
      "execution_count": null,
      "outputs": []
    },
    {
      "cell_type": "code",
      "metadata": {
        "id": "_9CuQHFMUa7j"
      },
      "source": [
        "y = df_deneme2['Başvuru_sayısı']"
      ],
      "execution_count": null,
      "outputs": []
    },
    {
      "cell_type": "code",
      "metadata": {
        "id": "4-CQbkmMwaaQ"
      },
      "source": [
        "df[\"ILCE\"].value_counts()"
      ],
      "execution_count": null,
      "outputs": []
    }
  ]
}