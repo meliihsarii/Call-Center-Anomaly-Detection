{
  "nbformat": 4,
  "nbformat_minor": 0,
  "metadata": {
    "colab": {
      "name": "FILTERING AND PREPARING TO MODEL.ipynb",
      "provenance": []
    },
    "kernelspec": {
      "name": "python3",
      "display_name": "Python 3"
    },
    "language_info": {
      "name": "python"
    }
  },
  "cells": [
    {
      "cell_type": "markdown",
      "metadata": {
        "id": "BpGN5z5_qFEU"
      },
      "source": [
        "# Importing Libraries"
      ]
    },
    {
      "cell_type": "code",
      "metadata": {
        "id": "SdjU-zFwp8Co"
      },
      "source": [
        "import pandas as pd\n",
        "import numpy as np\n",
        "import seaborn as sns\n",
        "from datetime import datetime"
      ],
      "execution_count": null,
      "outputs": []
    },
    {
      "cell_type": "markdown",
      "metadata": {
        "id": "mArPY-gsqdz_"
      },
      "source": [
        "# Loading&Reading Data"
      ]
    },
    {
      "cell_type": "code",
      "metadata": {
        "id": "NAKIa5hoqmhI"
      },
      "source": [
        "df = pd.read_csv(\"/content/drive/MyDrive/Colab Notebooks/prepared_data\")"
      ],
      "execution_count": null,
      "outputs": []
    },
    {
      "cell_type": "markdown",
      "metadata": {
        "id": "zcrRYYwiqJlu"
      },
      "source": [
        "## REGEX"
      ]
    },
    {
      "cell_type": "markdown",
      "metadata": {
        "id": "ZMmPAdK3jEFD"
      },
      "source": [
        "DATASETİNİ İNCELEDİĞİMİZ ZAMAN SOSYAL HİZMETLERE GELEN ÇOK FAZLA BİREYSEL TALEP VARDI. BUNLARI ELEMEK İÇİN, 335 KONU İÇERİSİNDEN ANOMALİYE SEBEP OLABİLECEK OLARAK BELİRLEDİĞİMİZ KONULARI DİĞERLERİNDEN AYIRMAK İÇİN BİR FİLTRELEME UYGULADIK."
      ]
    },
    {
      "cell_type": "code",
      "metadata": {
        "id": "cPaW8Gjdi2f-"
      },
      "source": [
        "df['KONU'] = df['KONU'].str.upper()\n",
        "search_list = ['YANGIN','DOĞALGAZ' , 'DEPREM' , 'DOĞAL AFETLER' , 'AFETLER' , 'KAZALAR & OLAYLAR' , 'İSKİ' , 'ASANSÖRLER' , 'ACİL MÜDAHALE' , 'SAĞLIK HİZMETLERİ' , 'EMNİYET' , 'GÜVENLİK' , 'GÜVENLİK VE EMNİYET' , 'Arıza Başvuru' , 'SU' , 'DSİ' , 'DERE' , 'SOKAK HAYVANLARI' , 'BAKIM ONARIM' , 'İLÇE VETERİNER' , 'MAZGAL' , 'GÜRÜLTÜ' , 'TALEP' , 'OTOBÜSLER' , 'İETT OTOBÜSLERİ' , 'METROBÜS' , 'MARMARAY' , 'MİNİBÜS/DOLMUŞ' , 'MİNİBÜS/DOLMUŞ/SERVİS/TAKSİ' , 'ÇAĞRI MERKEZİ' , 'EVDE BAKIM HİZMETİ' , 'SOKAKTA KALANLAR' , 'HAT VE GÜZERGAH' , 'SEFER GECİKMESİ/İPTALİ']\n",
        "mask = df['KONU'].str.contains('|'.join(search_list))\n",
        "df_konu1= df[mask]"
      ],
      "execution_count": null,
      "outputs": []
    },
    {
      "cell_type": "code",
      "metadata": {
        "colab": {
          "base_uri": "https://localhost:8080/",
          "height": 570
        },
        "id": "Nk-zr_Gii92Z",
        "outputId": "68328c5b-b390-42af-baf7-68c5160ebf38"
      },
      "source": [
        "df_konu1"
      ],
      "execution_count": null,
      "outputs": [
        {
          "output_type": "execute_result",
          "data": {
            "text/html": [
              "<div>\n",
              "<style scoped>\n",
              "    .dataframe tbody tr th:only-of-type {\n",
              "        vertical-align: middle;\n",
              "    }\n",
              "\n",
              "    .dataframe tbody tr th {\n",
              "        vertical-align: top;\n",
              "    }\n",
              "\n",
              "    .dataframe thead th {\n",
              "        text-align: right;\n",
              "    }\n",
              "</style>\n",
              "<table border=\"1\" class=\"dataframe\">\n",
              "  <thead>\n",
              "    <tr style=\"text-align: right;\">\n",
              "      <th></th>\n",
              "      <th>BASVURU_KODU</th>\n",
              "      <th>ACILIS_TARIHI</th>\n",
              "      <th>KAPANIS_TARIHI</th>\n",
              "      <th>BASVURU_TANIMI</th>\n",
              "      <th>ILGILI_BIRIM</th>\n",
              "      <th>KONU</th>\n",
              "      <th>ALT_KONU</th>\n",
              "      <th>KANAL</th>\n",
              "      <th>DURUM</th>\n",
              "      <th>ILCE</th>\n",
              "    </tr>\n",
              "  </thead>\n",
              "  <tbody>\n",
              "    <tr>\n",
              "      <th>63</th>\n",
              "      <td>1-23655659288</td>\n",
              "      <td>2019-11-28 12:48:42</td>\n",
              "      <td>2020-08-03 15:53:59</td>\n",
              "      <td>Dr. Vasıf Topçu Fen Lisesi'ne ibb tarafından k...</td>\n",
              "      <td>YAPI İŞLERİ MÜDÜRLÜĞÜ</td>\n",
              "      <td>BAKIM ONARIM</td>\n",
              "      <td>YAPIMI DEVAM EDEN İŞLER</td>\n",
              "      <td>Telefon</td>\n",
              "      <td>Kapandı</td>\n",
              "      <td>ŞİLE</td>\n",
              "    </tr>\n",
              "    <tr>\n",
              "      <th>89</th>\n",
              "      <td>1-24707778804</td>\n",
              "      <td>2019-12-25 12:49:41</td>\n",
              "      <td>2020-07-30 18:35:20</td>\n",
              "      <td>BELİRTMİŞ OLDUĞUM BURHANİYE CADDESİ ÜZERİNDE ...</td>\n",
              "      <td>ÜSKÜDAR BELEDİYESİ</td>\n",
              "      <td>MAZGAL</td>\n",
              "      <td>MAZGAL AKSAKLIK</td>\n",
              "      <td>Web</td>\n",
              "      <td>Kapandı</td>\n",
              "      <td>ÜSKÜDAR</td>\n",
              "    </tr>\n",
              "    <tr>\n",
              "      <th>135</th>\n",
              "      <td>1-24912971405</td>\n",
              "      <td>2020-01-13 19:16:40</td>\n",
              "      <td>2020-08-13 14:30:01</td>\n",
              "      <td>Sayın yetkili  \\n\\nYeni açılan Kadıköy ilçesi'...</td>\n",
              "      <td>KADIKÖY BELEDİYESİ</td>\n",
              "      <td>İLÇE VETERİNER</td>\n",
              "      <td>VETERİNER</td>\n",
              "      <td>E-Posta</td>\n",
              "      <td>Kapandı</td>\n",
              "      <td>KADIKÖY</td>\n",
              "    </tr>\n",
              "    <tr>\n",
              "      <th>138</th>\n",
              "      <td>1-24999030298</td>\n",
              "      <td>2020-01-23 14:46:25</td>\n",
              "      <td>2020-08-12 13:31:12</td>\n",
              "      <td>BELRİTMİŞ OLDUGUM ADRESTE BULUNAN İBB ZEYTİNBU...</td>\n",
              "      <td>AVRUPA YAKASI İTFAİYE MÜDÜRLÜĞÜ</td>\n",
              "      <td>YANGIN</td>\n",
              "      <td>YANGIN RAPORU</td>\n",
              "      <td>Telefon</td>\n",
              "      <td>Kapandı</td>\n",
              "      <td>ZEYTİNBURNU</td>\n",
              "    </tr>\n",
              "    <tr>\n",
              "      <th>139</th>\n",
              "      <td>1-25000219945</td>\n",
              "      <td>2020-01-23 16:29:47</td>\n",
              "      <td>2020-10-05 08:39:35</td>\n",
              "      <td>VELİBABA MAHALLESİ AYDOS CADDESİ PENDİK YÖNÜND...</td>\n",
              "      <td>ANADOLU YAKASI YOL BAKIM VE ONARIM MÜDÜRLÜĞÜ</td>\n",
              "      <td>BAKIM ONARIM</td>\n",
              "      <td>ASFALT-KALDIRIM-DUBA</td>\n",
              "      <td>Pendik Belediyesi</td>\n",
              "      <td>Kapandı</td>\n",
              "      <td>PENDİK</td>\n",
              "    </tr>\n",
              "    <tr>\n",
              "      <th>...</th>\n",
              "      <td>...</td>\n",
              "      <td>...</td>\n",
              "      <td>...</td>\n",
              "      <td>...</td>\n",
              "      <td>...</td>\n",
              "      <td>...</td>\n",
              "      <td>...</td>\n",
              "      <td>...</td>\n",
              "      <td>...</td>\n",
              "      <td>...</td>\n",
              "    </tr>\n",
              "    <tr>\n",
              "      <th>2914095</th>\n",
              "      <td>1-35893873665</td>\n",
              "      <td>2020-10-17 23:42:45</td>\n",
              "      <td>2020-10-17 23:44:25</td>\n",
              "      <td>AY-Aksama Yok</td>\n",
              "      <td>İETT GENEL MÜDÜRLÜĞÜ</td>\n",
              "      <td>HAT VE GÜZERGAH</td>\n",
              "      <td>OTOBÜS ANLIK BİLGİ</td>\n",
              "      <td>Telefon</td>\n",
              "      <td>Kapandı</td>\n",
              "      <td>GAZİOSMANPAŞA</td>\n",
              "    </tr>\n",
              "    <tr>\n",
              "      <th>2914097</th>\n",
              "      <td>1-35893961463</td>\n",
              "      <td>2020-10-17 23:47:56</td>\n",
              "      <td>2020-10-17 23:49:14</td>\n",
              "      <td>AY-Aksama Yok</td>\n",
              "      <td>İETT GENEL MÜDÜRLÜĞÜ</td>\n",
              "      <td>HAT VE GÜZERGAH</td>\n",
              "      <td>OTOBÜS ANLIK BİLGİ</td>\n",
              "      <td>Telefon</td>\n",
              "      <td>Kapandı</td>\n",
              "      <td>ŞİŞLİ</td>\n",
              "    </tr>\n",
              "    <tr>\n",
              "      <th>2914100</th>\n",
              "      <td>1-35892287955</td>\n",
              "      <td>2020-10-17 23:51:28</td>\n",
              "      <td>2020-10-17 23:53:27</td>\n",
              "      <td>AY-Aksama Yok</td>\n",
              "      <td>İETT GENEL MÜDÜRLÜĞÜ</td>\n",
              "      <td>HAT VE GÜZERGAH</td>\n",
              "      <td>OTOBÜS ANLIK BİLGİ</td>\n",
              "      <td>Telefon</td>\n",
              "      <td>Kapandı</td>\n",
              "      <td>KADIKÖY</td>\n",
              "    </tr>\n",
              "    <tr>\n",
              "      <th>2914102</th>\n",
              "      <td>1-35893903906</td>\n",
              "      <td>2020-10-17 23:55:46</td>\n",
              "      <td>2020-10-17 23:57:17</td>\n",
              "      <td>AY-Aksama Yok</td>\n",
              "      <td>İETT GENEL MÜDÜRLÜĞÜ</td>\n",
              "      <td>HAT VE GÜZERGAH</td>\n",
              "      <td>OTOBÜS ANLIK BİLGİ</td>\n",
              "      <td>Telefon</td>\n",
              "      <td>Kapandı</td>\n",
              "      <td>KÜÇÜKÇEKMECE</td>\n",
              "    </tr>\n",
              "    <tr>\n",
              "      <th>2914103</th>\n",
              "      <td>1-35893903913</td>\n",
              "      <td>2020-10-17 23:56:39</td>\n",
              "      <td>2020-10-17 23:59:05</td>\n",
              "      <td>AY-Aksama Yok</td>\n",
              "      <td>İETT GENEL MÜDÜRLÜĞÜ</td>\n",
              "      <td>HAT VE GÜZERGAH</td>\n",
              "      <td>OTOBÜS ANLIK BİLGİ</td>\n",
              "      <td>Telefon</td>\n",
              "      <td>Kapandı</td>\n",
              "      <td>FATİH</td>\n",
              "    </tr>\n",
              "  </tbody>\n",
              "</table>\n",
              "<p>760574 rows × 10 columns</p>\n",
              "</div>"
            ],
            "text/plain": [
              "          BASVURU_KODU        ACILIS_TARIHI  ...    DURUM           ILCE\n",
              "63       1-23655659288  2019-11-28 12:48:42  ...  Kapandı           ŞİLE\n",
              "89       1-24707778804  2019-12-25 12:49:41  ...  Kapandı        ÜSKÜDAR\n",
              "135      1-24912971405  2020-01-13 19:16:40  ...  Kapandı        KADIKÖY\n",
              "138      1-24999030298  2020-01-23 14:46:25  ...  Kapandı    ZEYTİNBURNU\n",
              "139      1-25000219945  2020-01-23 16:29:47  ...  Kapandı         PENDİK\n",
              "...                ...                  ...  ...      ...            ...\n",
              "2914095  1-35893873665  2020-10-17 23:42:45  ...  Kapandı  GAZİOSMANPAŞA\n",
              "2914097  1-35893961463  2020-10-17 23:47:56  ...  Kapandı          ŞİŞLİ\n",
              "2914100  1-35892287955  2020-10-17 23:51:28  ...  Kapandı        KADIKÖY\n",
              "2914102  1-35893903906  2020-10-17 23:55:46  ...  Kapandı   KÜÇÜKÇEKMECE\n",
              "2914103  1-35893903913  2020-10-17 23:56:39  ...  Kapandı          FATİH\n",
              "\n",
              "[760574 rows x 10 columns]"
            ]
          },
          "metadata": {
            "tags": []
          },
          "execution_count": 5
        }
      ]
    },
    {
      "cell_type": "markdown",
      "metadata": {
        "id": "GBazfUkExaLO"
      },
      "source": [
        "# Location Based Sample Selection"
      ]
    },
    {
      "cell_type": "code",
      "metadata": {
        "id": "7vtLersy1Ubg"
      },
      "source": [
        "new.plot(x='ACILIS_TARIHI', y='value', figsize= (40,10))"
      ],
      "execution_count": null,
      "outputs": []
    },
    {
      "cell_type": "markdown",
      "metadata": {
        "id": "MAm3x8L9znM-"
      },
      "source": [
        "Sarıyer lokasyonunda meydana gelen bir olağanüstü durumu görselleştirmeler sonucu tespit ettik. Bu sebeple Sarıyer ilçesini Sample olarak seçtik."
      ]
    },
    {
      "cell_type": "code",
      "metadata": {
        "colab": {
          "base_uri": "https://localhost:8080/",
          "height": 670
        },
        "id": "keDclTaExZYo",
        "outputId": "fc342bbf-1086-4046-abf9-ad8155aba599"
      },
      "source": [
        "df_konu1['ILCE'] = df_konu1['ILCE'].str.upper()\n",
        "search_list = [\"SARIYER\"]\n",
        "mask = df_konu1['ILCE'].str.contains('|'.join(search_list))\n",
        "selection= df_konu1[mask]\n",
        "selection"
      ],
      "execution_count": null,
      "outputs": [
        {
          "output_type": "stream",
          "text": [
            "/usr/local/lib/python3.7/dist-packages/ipykernel_launcher.py:1: SettingWithCopyWarning: \n",
            "A value is trying to be set on a copy of a slice from a DataFrame.\n",
            "Try using .loc[row_indexer,col_indexer] = value instead\n",
            "\n",
            "See the caveats in the documentation: https://pandas.pydata.org/pandas-docs/stable/user_guide/indexing.html#returning-a-view-versus-a-copy\n",
            "  \"\"\"Entry point for launching an IPython kernel.\n"
          ],
          "name": "stderr"
        },
        {
          "output_type": "execute_result",
          "data": {
            "text/html": [
              "<div>\n",
              "<style scoped>\n",
              "    .dataframe tbody tr th:only-of-type {\n",
              "        vertical-align: middle;\n",
              "    }\n",
              "\n",
              "    .dataframe tbody tr th {\n",
              "        vertical-align: top;\n",
              "    }\n",
              "\n",
              "    .dataframe thead th {\n",
              "        text-align: right;\n",
              "    }\n",
              "</style>\n",
              "<table border=\"1\" class=\"dataframe\">\n",
              "  <thead>\n",
              "    <tr style=\"text-align: right;\">\n",
              "      <th></th>\n",
              "      <th>BASVURU_KODU</th>\n",
              "      <th>ACILIS_TARIHI</th>\n",
              "      <th>KAPANIS_TARIHI</th>\n",
              "      <th>BASVURU_TANIMI</th>\n",
              "      <th>ILGILI_BIRIM</th>\n",
              "      <th>KONU</th>\n",
              "      <th>ALT_KONU</th>\n",
              "      <th>KANAL</th>\n",
              "      <th>DURUM</th>\n",
              "      <th>ILCE</th>\n",
              "    </tr>\n",
              "  </thead>\n",
              "  <tbody>\n",
              "    <tr>\n",
              "      <th>1752</th>\n",
              "      <td>1-28559705346</td>\n",
              "      <td>2020-04-30 22:58:16</td>\n",
              "      <td>2020-04-30 22:59:56</td>\n",
              "      <td>155</td>\n",
              "      <td>EMNİYET MÜDÜRLÜĞÜ</td>\n",
              "      <td>EMNİYET</td>\n",
              "      <td>TOPLUM DÜZENİNİN BOZULMASI</td>\n",
              "      <td>Telefon</td>\n",
              "      <td>Kapandı</td>\n",
              "      <td>SARIYER</td>\n",
              "    </tr>\n",
              "    <tr>\n",
              "      <th>5138</th>\n",
              "      <td>1-29205907682</td>\n",
              "      <td>2020-05-14 09:35:23</td>\n",
              "      <td>2020-10-08 09:47:16</td>\n",
              "      <td>Günaydın,\\nAçıklanan son yasağa göre 18-19 may...</td>\n",
              "      <td>İETT GENEL MÜDÜRLÜĞÜ</td>\n",
              "      <td>HAT VE GÜZERGAH</td>\n",
              "      <td>GÖREVLİ-TAHSİS ARAÇ HAKKINDA</td>\n",
              "      <td>E-Posta</td>\n",
              "      <td>Kapandı</td>\n",
              "      <td>SARIYER</td>\n",
              "    </tr>\n",
              "    <tr>\n",
              "      <th>7337</th>\n",
              "      <td>1-30320829258</td>\n",
              "      <td>2020-06-02 07:30:15</td>\n",
              "      <td>2020-09-18 13:38:39</td>\n",
              "      <td>47L HAT NUMARALI OTOBUS HAFTASONU  HACIOSMAN M...</td>\n",
              "      <td>İETT GENEL MÜDÜRLÜĞÜ</td>\n",
              "      <td>HAT VE GÜZERGAH</td>\n",
              "      <td>SEFER SAATİ DEĞİŞTİRİLSİN</td>\n",
              "      <td>Telefon</td>\n",
              "      <td>Kapandı</td>\n",
              "      <td>SARIYER</td>\n",
              "    </tr>\n",
              "    <tr>\n",
              "      <th>7766</th>\n",
              "      <td>1-30410093777</td>\n",
              "      <td>2020-06-03 18:07:41</td>\n",
              "      <td>2020-09-22 16:30:14</td>\n",
              "      <td>42KM  HATLI ARAC NEZAMAN HIZMET VERECEK  NEDEN...</td>\n",
              "      <td>İETT GENEL MÜDÜRLÜĞÜ</td>\n",
              "      <td>HAT VE GÜZERGAH</td>\n",
              "      <td>YENİ HAT</td>\n",
              "      <td>Telefon</td>\n",
              "      <td>Kapandı</td>\n",
              "      <td>SARIYER</td>\n",
              "    </tr>\n",
              "    <tr>\n",
              "      <th>7772</th>\n",
              "      <td>1-30414044933</td>\n",
              "      <td>2020-06-03 19:24:02</td>\n",
              "      <td>2020-08-06 13:01:32</td>\n",
              "      <td>41E VE 41AT ARAÇLARININ HER İKİ YÖNDEDE 15:00 ...</td>\n",
              "      <td>İETT GENEL MÜDÜRLÜĞÜ</td>\n",
              "      <td>HAT VE GÜZERGAH</td>\n",
              "      <td>SEFER ARTTIRILSIN</td>\n",
              "      <td>Telefon</td>\n",
              "      <td>Kapandı</td>\n",
              "      <td>SARIYER</td>\n",
              "    </tr>\n",
              "    <tr>\n",
              "      <th>...</th>\n",
              "      <td>...</td>\n",
              "      <td>...</td>\n",
              "      <td>...</td>\n",
              "      <td>...</td>\n",
              "      <td>...</td>\n",
              "      <td>...</td>\n",
              "      <td>...</td>\n",
              "      <td>...</td>\n",
              "      <td>...</td>\n",
              "      <td>...</td>\n",
              "    </tr>\n",
              "    <tr>\n",
              "      <th>2913725</th>\n",
              "      <td>1-35890292309</td>\n",
              "      <td>2020-10-17 20:05:22</td>\n",
              "      <td>2020-10-17 20:06:53</td>\n",
              "      <td>AY-Aksama Yok</td>\n",
              "      <td>İETT GENEL MÜDÜRLÜĞÜ</td>\n",
              "      <td>HAT VE GÜZERGAH</td>\n",
              "      <td>OTOBÜS ANLIK BİLGİ</td>\n",
              "      <td>Telefon</td>\n",
              "      <td>Kapandı</td>\n",
              "      <td>SARIYER</td>\n",
              "    </tr>\n",
              "    <tr>\n",
              "      <th>2913871</th>\n",
              "      <td>1-35891586236</td>\n",
              "      <td>2020-10-17 21:16:02</td>\n",
              "      <td>2020-10-17 21:18:17</td>\n",
              "      <td>SEFER SAAT HK BV.</td>\n",
              "      <td>ŞEHİR HATLARI A.Ş.</td>\n",
              "      <td>HAT VE GÜZERGAH</td>\n",
              "      <td>ŞEHİR HATLARI SEFERLERİ</td>\n",
              "      <td>Telefon</td>\n",
              "      <td>Kapandı</td>\n",
              "      <td>SARIYER</td>\n",
              "    </tr>\n",
              "    <tr>\n",
              "      <th>2913917</th>\n",
              "      <td>1-35891586839</td>\n",
              "      <td>2020-10-17 21:32:38</td>\n",
              "      <td>2020-10-17 21:37:54</td>\n",
              "      <td>MİNİBÜS İLE İLGİLİ FAZLA YOLCU ALIMINA DAİR GÖ...</td>\n",
              "      <td>EMNİYET MÜDÜRLÜĞÜ</td>\n",
              "      <td>EMNİYET</td>\n",
              "      <td>TRAFİK KURAL İHLALİ</td>\n",
              "      <td>Telefon</td>\n",
              "      <td>Kapandı</td>\n",
              "      <td>SARIYER</td>\n",
              "    </tr>\n",
              "    <tr>\n",
              "      <th>2913946</th>\n",
              "      <td>1-35890846153</td>\n",
              "      <td>2020-10-17 21:52:13</td>\n",
              "      <td>2020-10-17 21:53:38</td>\n",
              "      <td>AR-Arıza</td>\n",
              "      <td>İETT GENEL MÜDÜRLÜĞÜ</td>\n",
              "      <td>HAT VE GÜZERGAH</td>\n",
              "      <td>OTOBÜS ANLIK BİLGİ</td>\n",
              "      <td>Telefon</td>\n",
              "      <td>Kapandı</td>\n",
              "      <td>SARIYER</td>\n",
              "    </tr>\n",
              "    <tr>\n",
              "      <th>2914040</th>\n",
              "      <td>1-35892043927</td>\n",
              "      <td>2020-10-17 22:56:30</td>\n",
              "      <td>2020-10-17 22:58:15</td>\n",
              "      <td>AY-Aksama Yok</td>\n",
              "      <td>İETT GENEL MÜDÜRLÜĞÜ</td>\n",
              "      <td>HAT VE GÜZERGAH</td>\n",
              "      <td>OTOBÜS ANLIK BİLGİ</td>\n",
              "      <td>Telefon</td>\n",
              "      <td>Kapandı</td>\n",
              "      <td>SARIYER</td>\n",
              "    </tr>\n",
              "  </tbody>\n",
              "</table>\n",
              "<p>17335 rows × 10 columns</p>\n",
              "</div>"
            ],
            "text/plain": [
              "          BASVURU_KODU        ACILIS_TARIHI  ...    DURUM     ILCE\n",
              "1752     1-28559705346  2020-04-30 22:58:16  ...  Kapandı  SARIYER\n",
              "5138     1-29205907682  2020-05-14 09:35:23  ...  Kapandı  SARIYER\n",
              "7337     1-30320829258  2020-06-02 07:30:15  ...  Kapandı  SARIYER\n",
              "7766     1-30410093777  2020-06-03 18:07:41  ...  Kapandı  SARIYER\n",
              "7772     1-30414044933  2020-06-03 19:24:02  ...  Kapandı  SARIYER\n",
              "...                ...                  ...  ...      ...      ...\n",
              "2913725  1-35890292309  2020-10-17 20:05:22  ...  Kapandı  SARIYER\n",
              "2913871  1-35891586236  2020-10-17 21:16:02  ...  Kapandı  SARIYER\n",
              "2913917  1-35891586839  2020-10-17 21:32:38  ...  Kapandı  SARIYER\n",
              "2913946  1-35890846153  2020-10-17 21:52:13  ...  Kapandı  SARIYER\n",
              "2914040  1-35892043927  2020-10-17 22:56:30  ...  Kapandı  SARIYER\n",
              "\n",
              "[17335 rows x 10 columns]"
            ]
          },
          "metadata": {
            "tags": []
          },
          "execution_count": 6
        }
      ]
    },
    {
      "cell_type": "code",
      "metadata": {
        "colab": {
          "base_uri": "https://localhost:8080/"
        },
        "id": "-eoX6QCjxlGM",
        "outputId": "cab8d5d8-1afc-4822-aed0-39d6d806988e"
      },
      "source": [
        "selection['ACILIS_TARIHI'] = pd.to_datetime(selection['ACILIS_TARIHI'],format='%Y/%m/%d %H:%M:%S')"
      ],
      "execution_count": null,
      "outputs": [
        {
          "output_type": "stream",
          "text": [
            "/usr/local/lib/python3.7/dist-packages/ipykernel_launcher.py:1: SettingWithCopyWarning: \n",
            "A value is trying to be set on a copy of a slice from a DataFrame.\n",
            "Try using .loc[row_indexer,col_indexer] = value instead\n",
            "\n",
            "See the caveats in the documentation: https://pandas.pydata.org/pandas-docs/stable/user_guide/indexing.html#returning-a-view-versus-a-copy\n",
            "  \"\"\"Entry point for launching an IPython kernel.\n"
          ],
          "name": "stderr"
        }
      ]
    },
    {
      "cell_type": "code",
      "metadata": {
        "id": "BuTU-1fFxqmq"
      },
      "source": [
        "b=selection.value_counts().reset_index()"
      ],
      "execution_count": null,
      "outputs": []
    },
    {
      "cell_type": "code",
      "metadata": {
        "id": "hTdXRg6zxqkv"
      },
      "source": [
        "b.rename(columns={'0':'Value'},inplace=True)"
      ],
      "execution_count": null,
      "outputs": []
    },
    {
      "cell_type": "code",
      "metadata": {
        "id": "Kl5yP7FUxqiG"
      },
      "source": [
        "b.sort_values(by=\"ACILIS_TARIHI\",inplace=True)"
      ],
      "execution_count": null,
      "outputs": []
    },
    {
      "cell_type": "code",
      "metadata": {
        "id": "92DlgGyPxqfP"
      },
      "source": [
        "b.reset_index(inplace=True)"
      ],
      "execution_count": null,
      "outputs": []
    },
    {
      "cell_type": "code",
      "metadata": {
        "id": "xEaykV51x_xj"
      },
      "source": [
        "c=b"
      ],
      "execution_count": null,
      "outputs": []
    },
    {
      "cell_type": "code",
      "metadata": {
        "colab": {
          "base_uri": "https://localhost:8080/",
          "height": 303
        },
        "id": "bAxOlhlFxqcc",
        "outputId": "4d6ffa94-3f07-4647-f8ea-38af055e49ba"
      },
      "source": [
        "c.drop(columns=['index'], inplace=True)"
      ],
      "execution_count": null,
      "outputs": [
        {
          "output_type": "error",
          "ename": "KeyError",
          "evalue": "ignored",
          "traceback": [
            "\u001b[0;31m---------------------------------------------------------------------------\u001b[0m",
            "\u001b[0;31mKeyError\u001b[0m                                  Traceback (most recent call last)",
            "\u001b[0;32m<ipython-input-17-0277a56c50b4>\u001b[0m in \u001b[0;36m<module>\u001b[0;34m()\u001b[0m\n\u001b[0;32m----> 1\u001b[0;31m \u001b[0mc\u001b[0m\u001b[0;34m.\u001b[0m\u001b[0mdrop\u001b[0m\u001b[0;34m(\u001b[0m\u001b[0mcolumns\u001b[0m\u001b[0;34m=\u001b[0m\u001b[0;34m[\u001b[0m\u001b[0;34m'index'\u001b[0m\u001b[0;34m]\u001b[0m\u001b[0;34m,\u001b[0m \u001b[0minplace\u001b[0m\u001b[0;34m=\u001b[0m\u001b[0;32mTrue\u001b[0m\u001b[0;34m)\u001b[0m\u001b[0;34m\u001b[0m\u001b[0;34m\u001b[0m\u001b[0m\n\u001b[0m",
            "\u001b[0;32m/usr/local/lib/python3.7/dist-packages/pandas/core/frame.py\u001b[0m in \u001b[0;36mdrop\u001b[0;34m(self, labels, axis, index, columns, level, inplace, errors)\u001b[0m\n\u001b[1;32m   4172\u001b[0m             \u001b[0mlevel\u001b[0m\u001b[0;34m=\u001b[0m\u001b[0mlevel\u001b[0m\u001b[0;34m,\u001b[0m\u001b[0;34m\u001b[0m\u001b[0;34m\u001b[0m\u001b[0m\n\u001b[1;32m   4173\u001b[0m             \u001b[0minplace\u001b[0m\u001b[0;34m=\u001b[0m\u001b[0minplace\u001b[0m\u001b[0;34m,\u001b[0m\u001b[0;34m\u001b[0m\u001b[0;34m\u001b[0m\u001b[0m\n\u001b[0;32m-> 4174\u001b[0;31m             \u001b[0merrors\u001b[0m\u001b[0;34m=\u001b[0m\u001b[0merrors\u001b[0m\u001b[0;34m,\u001b[0m\u001b[0;34m\u001b[0m\u001b[0;34m\u001b[0m\u001b[0m\n\u001b[0m\u001b[1;32m   4175\u001b[0m         )\n\u001b[1;32m   4176\u001b[0m \u001b[0;34m\u001b[0m\u001b[0m\n",
            "\u001b[0;32m/usr/local/lib/python3.7/dist-packages/pandas/core/generic.py\u001b[0m in \u001b[0;36mdrop\u001b[0;34m(self, labels, axis, index, columns, level, inplace, errors)\u001b[0m\n\u001b[1;32m   3887\u001b[0m         \u001b[0;32mfor\u001b[0m \u001b[0maxis\u001b[0m\u001b[0;34m,\u001b[0m \u001b[0mlabels\u001b[0m \u001b[0;32min\u001b[0m \u001b[0maxes\u001b[0m\u001b[0;34m.\u001b[0m\u001b[0mitems\u001b[0m\u001b[0;34m(\u001b[0m\u001b[0;34m)\u001b[0m\u001b[0;34m:\u001b[0m\u001b[0;34m\u001b[0m\u001b[0;34m\u001b[0m\u001b[0m\n\u001b[1;32m   3888\u001b[0m             \u001b[0;32mif\u001b[0m \u001b[0mlabels\u001b[0m \u001b[0;32mis\u001b[0m \u001b[0;32mnot\u001b[0m \u001b[0;32mNone\u001b[0m\u001b[0;34m:\u001b[0m\u001b[0;34m\u001b[0m\u001b[0;34m\u001b[0m\u001b[0m\n\u001b[0;32m-> 3889\u001b[0;31m                 \u001b[0mobj\u001b[0m \u001b[0;34m=\u001b[0m \u001b[0mobj\u001b[0m\u001b[0;34m.\u001b[0m\u001b[0m_drop_axis\u001b[0m\u001b[0;34m(\u001b[0m\u001b[0mlabels\u001b[0m\u001b[0;34m,\u001b[0m \u001b[0maxis\u001b[0m\u001b[0;34m,\u001b[0m \u001b[0mlevel\u001b[0m\u001b[0;34m=\u001b[0m\u001b[0mlevel\u001b[0m\u001b[0;34m,\u001b[0m \u001b[0merrors\u001b[0m\u001b[0;34m=\u001b[0m\u001b[0merrors\u001b[0m\u001b[0;34m)\u001b[0m\u001b[0;34m\u001b[0m\u001b[0;34m\u001b[0m\u001b[0m\n\u001b[0m\u001b[1;32m   3890\u001b[0m \u001b[0;34m\u001b[0m\u001b[0m\n\u001b[1;32m   3891\u001b[0m         \u001b[0;32mif\u001b[0m \u001b[0minplace\u001b[0m\u001b[0;34m:\u001b[0m\u001b[0;34m\u001b[0m\u001b[0;34m\u001b[0m\u001b[0m\n",
            "\u001b[0;32m/usr/local/lib/python3.7/dist-packages/pandas/core/generic.py\u001b[0m in \u001b[0;36m_drop_axis\u001b[0;34m(self, labels, axis, level, errors)\u001b[0m\n\u001b[1;32m   3921\u001b[0m                 \u001b[0mnew_axis\u001b[0m \u001b[0;34m=\u001b[0m \u001b[0maxis\u001b[0m\u001b[0;34m.\u001b[0m\u001b[0mdrop\u001b[0m\u001b[0;34m(\u001b[0m\u001b[0mlabels\u001b[0m\u001b[0;34m,\u001b[0m \u001b[0mlevel\u001b[0m\u001b[0;34m=\u001b[0m\u001b[0mlevel\u001b[0m\u001b[0;34m,\u001b[0m \u001b[0merrors\u001b[0m\u001b[0;34m=\u001b[0m\u001b[0merrors\u001b[0m\u001b[0;34m)\u001b[0m\u001b[0;34m\u001b[0m\u001b[0;34m\u001b[0m\u001b[0m\n\u001b[1;32m   3922\u001b[0m             \u001b[0;32melse\u001b[0m\u001b[0;34m:\u001b[0m\u001b[0;34m\u001b[0m\u001b[0;34m\u001b[0m\u001b[0m\n\u001b[0;32m-> 3923\u001b[0;31m                 \u001b[0mnew_axis\u001b[0m \u001b[0;34m=\u001b[0m \u001b[0maxis\u001b[0m\u001b[0;34m.\u001b[0m\u001b[0mdrop\u001b[0m\u001b[0;34m(\u001b[0m\u001b[0mlabels\u001b[0m\u001b[0;34m,\u001b[0m \u001b[0merrors\u001b[0m\u001b[0;34m=\u001b[0m\u001b[0merrors\u001b[0m\u001b[0;34m)\u001b[0m\u001b[0;34m\u001b[0m\u001b[0;34m\u001b[0m\u001b[0m\n\u001b[0m\u001b[1;32m   3924\u001b[0m             \u001b[0mresult\u001b[0m \u001b[0;34m=\u001b[0m \u001b[0mself\u001b[0m\u001b[0;34m.\u001b[0m\u001b[0mreindex\u001b[0m\u001b[0;34m(\u001b[0m\u001b[0;34m**\u001b[0m\u001b[0;34m{\u001b[0m\u001b[0maxis_name\u001b[0m\u001b[0;34m:\u001b[0m \u001b[0mnew_axis\u001b[0m\u001b[0;34m}\u001b[0m\u001b[0;34m)\u001b[0m\u001b[0;34m\u001b[0m\u001b[0;34m\u001b[0m\u001b[0m\n\u001b[1;32m   3925\u001b[0m \u001b[0;34m\u001b[0m\u001b[0m\n",
            "\u001b[0;32m/usr/local/lib/python3.7/dist-packages/pandas/core/indexes/base.py\u001b[0m in \u001b[0;36mdrop\u001b[0;34m(self, labels, errors)\u001b[0m\n\u001b[1;32m   5285\u001b[0m         \u001b[0;32mif\u001b[0m \u001b[0mmask\u001b[0m\u001b[0;34m.\u001b[0m\u001b[0many\u001b[0m\u001b[0;34m(\u001b[0m\u001b[0;34m)\u001b[0m\u001b[0;34m:\u001b[0m\u001b[0;34m\u001b[0m\u001b[0;34m\u001b[0m\u001b[0m\n\u001b[1;32m   5286\u001b[0m             \u001b[0;32mif\u001b[0m \u001b[0merrors\u001b[0m \u001b[0;34m!=\u001b[0m \u001b[0;34m\"ignore\"\u001b[0m\u001b[0;34m:\u001b[0m\u001b[0;34m\u001b[0m\u001b[0;34m\u001b[0m\u001b[0m\n\u001b[0;32m-> 5287\u001b[0;31m                 \u001b[0;32mraise\u001b[0m \u001b[0mKeyError\u001b[0m\u001b[0;34m(\u001b[0m\u001b[0;34mf\"{labels[mask]} not found in axis\"\u001b[0m\u001b[0;34m)\u001b[0m\u001b[0;34m\u001b[0m\u001b[0;34m\u001b[0m\u001b[0m\n\u001b[0m\u001b[1;32m   5288\u001b[0m             \u001b[0mindexer\u001b[0m \u001b[0;34m=\u001b[0m \u001b[0mindexer\u001b[0m\u001b[0;34m[\u001b[0m\u001b[0;34m~\u001b[0m\u001b[0mmask\u001b[0m\u001b[0;34m]\u001b[0m\u001b[0;34m\u001b[0m\u001b[0;34m\u001b[0m\u001b[0m\n\u001b[1;32m   5289\u001b[0m         \u001b[0;32mreturn\u001b[0m \u001b[0mself\u001b[0m\u001b[0;34m.\u001b[0m\u001b[0mdelete\u001b[0m\u001b[0;34m(\u001b[0m\u001b[0mindexer\u001b[0m\u001b[0;34m)\u001b[0m\u001b[0;34m\u001b[0m\u001b[0;34m\u001b[0m\u001b[0m\n",
            "\u001b[0;31mKeyError\u001b[0m: \"['index'] not found in axis\""
          ]
        }
      ]
    },
    {
      "cell_type": "code",
      "metadata": {
        "id": "aFDyTPf-x9_G"
      },
      "source": [
        "c.rename(columns={'0':'Value'},inplace=True)"
      ],
      "execution_count": null,
      "outputs": []
    },
    {
      "cell_type": "markdown",
      "metadata": {
        "id": "Z6GfxB3p0P9o"
      },
      "source": [
        "## 15 MINUTES INTERVALS"
      ]
    },
    {
      "cell_type": "markdown",
      "metadata": {
        "id": "NePI8fDb0dWX"
      },
      "source": [
        "Senaryomuza göre 15 dakikalık geriye dönük inceleme yapmak amacıyla, gelme sıklığındaki anomaliyi tespit etmek için OPEN_DATE sütununu 15 dakikalık zaman aralıklarına böldük."
      ]
    },
    {
      "cell_type": "code",
      "metadata": {
        "id": "3FY5RHaYyI-U"
      },
      "source": [
        "frequenced_df = c.groupby(pd.Grouper(key='ACILIS_TARIHI',freq='15Min')).sum()"
      ],
      "execution_count": null,
      "outputs": []
    },
    {
      "cell_type": "code",
      "metadata": {
        "colab": {
          "base_uri": "https://localhost:8080/",
          "height": 303
        },
        "id": "9xLj_LaeyMB2",
        "outputId": "ba3ef5bd-5b0f-4277-8e13-9061913cfb5b"
      },
      "source": [
        "frequenced_df.drop(columns=[\"index\"],inplace=True)"
      ],
      "execution_count": null,
      "outputs": [
        {
          "output_type": "error",
          "ename": "KeyError",
          "evalue": "ignored",
          "traceback": [
            "\u001b[0;31m---------------------------------------------------------------------------\u001b[0m",
            "\u001b[0;31mKeyError\u001b[0m                                  Traceback (most recent call last)",
            "\u001b[0;32m<ipython-input-20-adf4cf16cb1a>\u001b[0m in \u001b[0;36m<module>\u001b[0;34m()\u001b[0m\n\u001b[0;32m----> 1\u001b[0;31m \u001b[0mnew\u001b[0m\u001b[0;34m.\u001b[0m\u001b[0mdrop\u001b[0m\u001b[0;34m(\u001b[0m\u001b[0mcolumns\u001b[0m\u001b[0;34m=\u001b[0m\u001b[0;34m[\u001b[0m\u001b[0;34m\"index\"\u001b[0m\u001b[0;34m]\u001b[0m\u001b[0;34m,\u001b[0m\u001b[0minplace\u001b[0m\u001b[0;34m=\u001b[0m\u001b[0;32mTrue\u001b[0m\u001b[0;34m)\u001b[0m\u001b[0;34m\u001b[0m\u001b[0;34m\u001b[0m\u001b[0m\n\u001b[0m",
            "\u001b[0;32m/usr/local/lib/python3.7/dist-packages/pandas/core/frame.py\u001b[0m in \u001b[0;36mdrop\u001b[0;34m(self, labels, axis, index, columns, level, inplace, errors)\u001b[0m\n\u001b[1;32m   4172\u001b[0m             \u001b[0mlevel\u001b[0m\u001b[0;34m=\u001b[0m\u001b[0mlevel\u001b[0m\u001b[0;34m,\u001b[0m\u001b[0;34m\u001b[0m\u001b[0;34m\u001b[0m\u001b[0m\n\u001b[1;32m   4173\u001b[0m             \u001b[0minplace\u001b[0m\u001b[0;34m=\u001b[0m\u001b[0minplace\u001b[0m\u001b[0;34m,\u001b[0m\u001b[0;34m\u001b[0m\u001b[0;34m\u001b[0m\u001b[0m\n\u001b[0;32m-> 4174\u001b[0;31m             \u001b[0merrors\u001b[0m\u001b[0;34m=\u001b[0m\u001b[0merrors\u001b[0m\u001b[0;34m,\u001b[0m\u001b[0;34m\u001b[0m\u001b[0;34m\u001b[0m\u001b[0m\n\u001b[0m\u001b[1;32m   4175\u001b[0m         )\n\u001b[1;32m   4176\u001b[0m \u001b[0;34m\u001b[0m\u001b[0m\n",
            "\u001b[0;32m/usr/local/lib/python3.7/dist-packages/pandas/core/generic.py\u001b[0m in \u001b[0;36mdrop\u001b[0;34m(self, labels, axis, index, columns, level, inplace, errors)\u001b[0m\n\u001b[1;32m   3887\u001b[0m         \u001b[0;32mfor\u001b[0m \u001b[0maxis\u001b[0m\u001b[0;34m,\u001b[0m \u001b[0mlabels\u001b[0m \u001b[0;32min\u001b[0m \u001b[0maxes\u001b[0m\u001b[0;34m.\u001b[0m\u001b[0mitems\u001b[0m\u001b[0;34m(\u001b[0m\u001b[0;34m)\u001b[0m\u001b[0;34m:\u001b[0m\u001b[0;34m\u001b[0m\u001b[0;34m\u001b[0m\u001b[0m\n\u001b[1;32m   3888\u001b[0m             \u001b[0;32mif\u001b[0m \u001b[0mlabels\u001b[0m \u001b[0;32mis\u001b[0m \u001b[0;32mnot\u001b[0m \u001b[0;32mNone\u001b[0m\u001b[0;34m:\u001b[0m\u001b[0;34m\u001b[0m\u001b[0;34m\u001b[0m\u001b[0m\n\u001b[0;32m-> 3889\u001b[0;31m                 \u001b[0mobj\u001b[0m \u001b[0;34m=\u001b[0m \u001b[0mobj\u001b[0m\u001b[0;34m.\u001b[0m\u001b[0m_drop_axis\u001b[0m\u001b[0;34m(\u001b[0m\u001b[0mlabels\u001b[0m\u001b[0;34m,\u001b[0m \u001b[0maxis\u001b[0m\u001b[0;34m,\u001b[0m \u001b[0mlevel\u001b[0m\u001b[0;34m=\u001b[0m\u001b[0mlevel\u001b[0m\u001b[0;34m,\u001b[0m \u001b[0merrors\u001b[0m\u001b[0;34m=\u001b[0m\u001b[0merrors\u001b[0m\u001b[0;34m)\u001b[0m\u001b[0;34m\u001b[0m\u001b[0;34m\u001b[0m\u001b[0m\n\u001b[0m\u001b[1;32m   3890\u001b[0m \u001b[0;34m\u001b[0m\u001b[0m\n\u001b[1;32m   3891\u001b[0m         \u001b[0;32mif\u001b[0m \u001b[0minplace\u001b[0m\u001b[0;34m:\u001b[0m\u001b[0;34m\u001b[0m\u001b[0;34m\u001b[0m\u001b[0m\n",
            "\u001b[0;32m/usr/local/lib/python3.7/dist-packages/pandas/core/generic.py\u001b[0m in \u001b[0;36m_drop_axis\u001b[0;34m(self, labels, axis, level, errors)\u001b[0m\n\u001b[1;32m   3921\u001b[0m                 \u001b[0mnew_axis\u001b[0m \u001b[0;34m=\u001b[0m \u001b[0maxis\u001b[0m\u001b[0;34m.\u001b[0m\u001b[0mdrop\u001b[0m\u001b[0;34m(\u001b[0m\u001b[0mlabels\u001b[0m\u001b[0;34m,\u001b[0m \u001b[0mlevel\u001b[0m\u001b[0;34m=\u001b[0m\u001b[0mlevel\u001b[0m\u001b[0;34m,\u001b[0m \u001b[0merrors\u001b[0m\u001b[0;34m=\u001b[0m\u001b[0merrors\u001b[0m\u001b[0;34m)\u001b[0m\u001b[0;34m\u001b[0m\u001b[0;34m\u001b[0m\u001b[0m\n\u001b[1;32m   3922\u001b[0m             \u001b[0;32melse\u001b[0m\u001b[0;34m:\u001b[0m\u001b[0;34m\u001b[0m\u001b[0;34m\u001b[0m\u001b[0m\n\u001b[0;32m-> 3923\u001b[0;31m                 \u001b[0mnew_axis\u001b[0m \u001b[0;34m=\u001b[0m \u001b[0maxis\u001b[0m\u001b[0;34m.\u001b[0m\u001b[0mdrop\u001b[0m\u001b[0;34m(\u001b[0m\u001b[0mlabels\u001b[0m\u001b[0;34m,\u001b[0m \u001b[0merrors\u001b[0m\u001b[0;34m=\u001b[0m\u001b[0merrors\u001b[0m\u001b[0;34m)\u001b[0m\u001b[0;34m\u001b[0m\u001b[0;34m\u001b[0m\u001b[0m\n\u001b[0m\u001b[1;32m   3924\u001b[0m             \u001b[0mresult\u001b[0m \u001b[0;34m=\u001b[0m \u001b[0mself\u001b[0m\u001b[0;34m.\u001b[0m\u001b[0mreindex\u001b[0m\u001b[0;34m(\u001b[0m\u001b[0;34m**\u001b[0m\u001b[0;34m{\u001b[0m\u001b[0maxis_name\u001b[0m\u001b[0;34m:\u001b[0m \u001b[0mnew_axis\u001b[0m\u001b[0;34m}\u001b[0m\u001b[0;34m)\u001b[0m\u001b[0;34m\u001b[0m\u001b[0;34m\u001b[0m\u001b[0m\n\u001b[1;32m   3925\u001b[0m \u001b[0;34m\u001b[0m\u001b[0m\n",
            "\u001b[0;32m/usr/local/lib/python3.7/dist-packages/pandas/core/indexes/base.py\u001b[0m in \u001b[0;36mdrop\u001b[0;34m(self, labels, errors)\u001b[0m\n\u001b[1;32m   5285\u001b[0m         \u001b[0;32mif\u001b[0m \u001b[0mmask\u001b[0m\u001b[0;34m.\u001b[0m\u001b[0many\u001b[0m\u001b[0;34m(\u001b[0m\u001b[0;34m)\u001b[0m\u001b[0;34m:\u001b[0m\u001b[0;34m\u001b[0m\u001b[0;34m\u001b[0m\u001b[0m\n\u001b[1;32m   5286\u001b[0m             \u001b[0;32mif\u001b[0m \u001b[0merrors\u001b[0m \u001b[0;34m!=\u001b[0m \u001b[0;34m\"ignore\"\u001b[0m\u001b[0;34m:\u001b[0m\u001b[0;34m\u001b[0m\u001b[0;34m\u001b[0m\u001b[0m\n\u001b[0;32m-> 5287\u001b[0;31m                 \u001b[0;32mraise\u001b[0m \u001b[0mKeyError\u001b[0m\u001b[0;34m(\u001b[0m\u001b[0;34mf\"{labels[mask]} not found in axis\"\u001b[0m\u001b[0;34m)\u001b[0m\u001b[0;34m\u001b[0m\u001b[0;34m\u001b[0m\u001b[0m\n\u001b[0m\u001b[1;32m   5288\u001b[0m             \u001b[0mindexer\u001b[0m \u001b[0;34m=\u001b[0m \u001b[0mindexer\u001b[0m\u001b[0;34m[\u001b[0m\u001b[0;34m~\u001b[0m\u001b[0mmask\u001b[0m\u001b[0;34m]\u001b[0m\u001b[0;34m\u001b[0m\u001b[0;34m\u001b[0m\u001b[0m\n\u001b[1;32m   5289\u001b[0m         \u001b[0;32mreturn\u001b[0m \u001b[0mself\u001b[0m\u001b[0;34m.\u001b[0m\u001b[0mdelete\u001b[0m\u001b[0;34m(\u001b[0m\u001b[0mindexer\u001b[0m\u001b[0;34m)\u001b[0m\u001b[0;34m\u001b[0m\u001b[0;34m\u001b[0m\u001b[0m\n",
            "\u001b[0;31mKeyError\u001b[0m: \"['index'] not found in axis\""
          ]
        }
      ]
    },
    {
      "cell_type": "code",
      "metadata": {
        "id": "QcXlfVKKyhdx"
      },
      "source": [
        "frequenced_df.reset_index(inplace=True)"
      ],
      "execution_count": null,
      "outputs": []
    },
    {
      "cell_type": "code",
      "metadata": {
        "id": "zdlVZYIiyjzN"
      },
      "source": [
        "frequenced_df.columns = ['ACILIS_TARIHI', 'value']"
      ],
      "execution_count": null,
      "outputs": []
    },
    {
      "cell_type": "code",
      "metadata": {
        "id": "oBpFSM6K1w9n",
        "colab": {
          "base_uri": "https://localhost:8080/",
          "height": 162
        },
        "outputId": "fd13ac77-b4eb-408b-c089-cf522dbf922b"
      },
      "source": [
        "frequenced_df.plot(x='ACILIS_TARIHI', y='value', figsize= (40,10))"
      ],
      "execution_count": null,
      "outputs": [
        {
          "output_type": "error",
          "ename": "NameError",
          "evalue": "ignored",
          "traceback": [
            "\u001b[0;31m---------------------------------------------------------------------------\u001b[0m",
            "\u001b[0;31mNameError\u001b[0m                                 Traceback (most recent call last)",
            "\u001b[0;32m<ipython-input-26-d1204d1c5c7e>\u001b[0m in \u001b[0;36m<module>\u001b[0;34m()\u001b[0m\n\u001b[0;32m----> 1\u001b[0;31m \u001b[0mfrequenced_df\u001b[0m\u001b[0;34m.\u001b[0m\u001b[0mplot\u001b[0m\u001b[0;34m(\u001b[0m\u001b[0mx\u001b[0m\u001b[0;34m=\u001b[0m\u001b[0;34m'ACILIS_TARIHI'\u001b[0m\u001b[0;34m,\u001b[0m \u001b[0my\u001b[0m\u001b[0;34m=\u001b[0m\u001b[0;34m'value'\u001b[0m\u001b[0;34m,\u001b[0m \u001b[0mfigsize\u001b[0m\u001b[0;34m=\u001b[0m \u001b[0;34m(\u001b[0m\u001b[0;36m40\u001b[0m\u001b[0;34m,\u001b[0m\u001b[0;36m10\u001b[0m\u001b[0;34m)\u001b[0m\u001b[0;34m)\u001b[0m\u001b[0;34m\u001b[0m\u001b[0;34m\u001b[0m\u001b[0m\n\u001b[0m",
            "\u001b[0;31mNameError\u001b[0m: name 'frequenced_df' is not defined"
          ]
        }
      ]
    },
    {
      "cell_type": "code",
      "metadata": {
        "id": "wMFZpw8Wyupa"
      },
      "source": [
        "frequenced_df.to_csv('/content/drive/MyDrive/sariyer_sample.csv', index = False)"
      ],
      "execution_count": null,
      "outputs": []
    }
  ]
}