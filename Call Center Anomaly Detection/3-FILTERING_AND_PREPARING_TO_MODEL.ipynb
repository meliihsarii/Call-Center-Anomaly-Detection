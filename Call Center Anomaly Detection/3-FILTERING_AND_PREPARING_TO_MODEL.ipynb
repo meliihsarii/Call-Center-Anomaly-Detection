{
  "nbformat": 4,
  "nbformat_minor": 0,
  "metadata": {
    "colab": {
      "name": "FILTERING AND PREPARING TO MODEL.ipynb",
      "provenance": []
    },
    "kernelspec": {
      "name": "python3",
      "display_name": "Python 3"
    },
    "language_info": {
      "name": "python"
    }
  },
  "cells": [
    {
      "cell_type": "markdown",
      "metadata": {
        "id": "BpGN5z5_qFEU"
      },
      "source": [
        "# Importing Libraries"
      ]
    },
    {
      "cell_type": "code",
      "metadata": {
        "id": "SdjU-zFwp8Co"
      },
      "source": [
        "import pandas as pd\n",
        "import numpy as np\n",
        "import seaborn as sns\n",
        "from datetime import datetime"
      ],
      "execution_count": null,
      "outputs": []
    },
    {
      "cell_type": "markdown",
      "metadata": {
        "id": "mArPY-gsqdz_"
      },
      "source": [
        "# Loading&Reading Data"
      ]
    },
    {
      "cell_type": "code",
      "metadata": {
        "id": "NAKIa5hoqmhI"
      },
      "source": [
        "df = pd.read_csv(\"/content/drive/MyDrive/Colab Notebooks/prepared_data\")"
      ],
      "execution_count": null,
      "outputs": []
    },
    {
      "cell_type": "markdown",
      "metadata": {
        "id": "zcrRYYwiqJlu"
      },
      "source": [
        "## REGEX"
      ]
    },
    {
      "cell_type": "markdown",
      "metadata": {
        "id": "ZMmPAdK3jEFD"
      },
      "source": [
        "DATASETİNİ İNCELEDİĞİMİZ ZAMAN SOSYAL HİZMETLERE GELEN ÇOK FAZLA BİREYSEL TALEP VARDI. BUNLARI ELEMEK İÇİN, 335 KONU İÇERİSİNDEN ANOMALİYE SEBEP OLABİLECEK OLARAK BELİRLEDİĞİMİZ KONULARI DİĞERLERİNDEN AYIRMAK İÇİN BİR FİLTRELEME UYGULADIK."
      ]
    },
    {
      "cell_type": "code",
      "metadata": {
        "id": "cPaW8Gjdi2f-"
      },
      "source": [
        "df['KONU'] = df['KONU'].str.upper()\n",
        "search_list = ['YANGIN','DOĞALGAZ' , 'DEPREM' , 'DOĞAL AFETLER' , 'AFETLER' , 'KAZALAR & OLAYLAR' , 'İSKİ' , 'ASANSÖRLER' , 'ACİL MÜDAHALE' , 'SAĞLIK HİZMETLERİ' , 'EMNİYET' , 'GÜVENLİK' , 'GÜVENLİK VE EMNİYET' , 'Arıza Başvuru' , 'SU' , 'DSİ' , 'DERE' , 'SOKAK HAYVANLARI' , 'BAKIM ONARIM' , 'İLÇE VETERİNER' , 'MAZGAL' , 'GÜRÜLTÜ' , 'TALEP' , 'OTOBÜSLER' , 'İETT OTOBÜSLERİ' , 'METROBÜS' , 'MARMARAY' , 'MİNİBÜS/DOLMUŞ' , 'MİNİBÜS/DOLMUŞ/SERVİS/TAKSİ' , 'ÇAĞRI MERKEZİ' , 'EVDE BAKIM HİZMETİ' , 'SOKAKTA KALANLAR' , 'HAT VE GÜZERGAH' , 'SEFER GECİKMESİ/İPTALİ']\n",
        "mask = df['KONU'].str.contains('|'.join(search_list))\n",
        "df_konu1= df[mask]"
      ],
      "execution_count": null,
      "outputs": []
    },
    {
      "cell_type": "code",
      "metadata": {
        "id": "Nk-zr_Gii92Z"
      },
      "source": [
        "df_konu1"
      ],
      "execution_count": null,
      "outputs": []
    },
    {
      "cell_type": "markdown",
      "metadata": {
        "id": "GBazfUkExaLO"
      },
      "source": [
        "# Location Based Sample Selection"
      ]
    },
    {
      "cell_type": "code",
      "metadata": {
        "id": "7vtLersy1Ubg"
      },
      "source": [
        "new.plot(x='ACILIS_TARIHI', y='value', figsize= (40,10))"
      ],
      "execution_count": null,
      "outputs": []
    },
    {
      "cell_type": "markdown",
      "metadata": {
        "id": "MAm3x8L9znM-"
      },
      "source": [
        "Sarıyer lokasyonunda meydana gelen bir olağanüstü durumu görselleştirmeler sonucu tespit ettik. Bu sebeple Sarıyer ilçesini Sample olarak seçtik."
      ]
    },
    {
      "cell_type": "code",
      "metadata": {
        "id": "keDclTaExZYo"
      },
      "source": [
        "df_konu1['ILCE'] = df_konu1['ILCE'].str.upper()\n",
        "search_list = [\"SARIYER\"]\n",
        "mask = df_konu1['ILCE'].str.contains('|'.join(search_list))\n",
        "selection= df_konu1[mask]\n",
        "selection"
      ],
      "execution_count": null,
      "outputs": []
    },
    {
      "cell_type": "code",
      "metadata": {
        "colab": {
          "base_uri": "https://localhost:8080/"
        },
        "id": "-eoX6QCjxlGM",
        "outputId": "cab8d5d8-1afc-4822-aed0-39d6d806988e"
      },
      "source": [
        "selection['ACILIS_TARIHI'] = pd.to_datetime(selection['ACILIS_TARIHI'],format='%Y/%m/%d %H:%M:%S')"
      ],
      "execution_count": null,
      "outputs": [
        {
          "output_type": "stream",
          "text": [
            "/usr/local/lib/python3.7/dist-packages/ipykernel_launcher.py:1: SettingWithCopyWarning: \n",
            "A value is trying to be set on a copy of a slice from a DataFrame.\n",
            "Try using .loc[row_indexer,col_indexer] = value instead\n",
            "\n",
            "See the caveats in the documentation: https://pandas.pydata.org/pandas-docs/stable/user_guide/indexing.html#returning-a-view-versus-a-copy\n",
            "  \"\"\"Entry point for launching an IPython kernel.\n"
          ],
          "name": "stderr"
        }
      ]
    },
    {
      "cell_type": "code",
      "metadata": {
        "id": "BuTU-1fFxqmq"
      },
      "source": [
        "b=selection.value_counts().reset_index()"
      ],
      "execution_count": null,
      "outputs": []
    },
    {
      "cell_type": "code",
      "metadata": {
        "id": "hTdXRg6zxqkv"
      },
      "source": [
        "b.rename(columns={'0':'Value'},inplace=True)"
      ],
      "execution_count": null,
      "outputs": []
    },
    {
      "cell_type": "code",
      "metadata": {
        "id": "Kl5yP7FUxqiG"
      },
      "source": [
        "b.sort_values(by=\"ACILIS_TARIHI\",inplace=True)"
      ],
      "execution_count": null,
      "outputs": []
    },
    {
      "cell_type": "code",
      "metadata": {
        "id": "92DlgGyPxqfP"
      },
      "source": [
        "b.reset_index(inplace=True)"
      ],
      "execution_count": null,
      "outputs": []
    },
    {
      "cell_type": "code",
      "metadata": {
        "id": "xEaykV51x_xj"
      },
      "source": [
        "c=b"
      ],
      "execution_count": null,
      "outputs": []
    },
    {
      "cell_type": "code",
      "metadata": {
        "id": "bAxOlhlFxqcc"
      },
      "source": [
        "c.drop(columns=['index'], inplace=True)"
      ],
      "execution_count": null,
      "outputs": []
    },
    {
      "cell_type": "code",
      "metadata": {
        "id": "aFDyTPf-x9_G"
      },
      "source": [
        "c.rename(columns={'0':'Value'},inplace=True)"
      ],
      "execution_count": null,
      "outputs": []
    },
    {
      "cell_type": "markdown",
      "metadata": {
        "id": "Z6GfxB3p0P9o"
      },
      "source": [
        "## 15 MINUTES INTERVALS"
      ]
    },
    {
      "cell_type": "markdown",
      "metadata": {
        "id": "NePI8fDb0dWX"
      },
      "source": [
        "Senaryomuza göre 15 dakikalık geriye dönük inceleme yapmak amacıyla, gelme sıklığındaki anomaliyi tespit etmek için OPEN_DATE sütununu 15 dakikalık zaman aralıklarına böldük."
      ]
    },
    {
      "cell_type": "code",
      "metadata": {
        "id": "3FY5RHaYyI-U"
      },
      "source": [
        "frequenced_df = c.groupby(pd.Grouper(key='ACILIS_TARIHI',freq='15Min')).sum()"
      ],
      "execution_count": null,
      "outputs": []
    },
    {
      "cell_type": "code",
      "metadata": {
        "id": "9xLj_LaeyMB2"
      },
      "source": [
        "frequenced_df.drop(columns=[\"index\"],inplace=True)"
      ],
      "execution_count": null,
      "outputs": []
    },
    {
      "cell_type": "code",
      "metadata": {
        "id": "QcXlfVKKyhdx"
      },
      "source": [
        "frequenced_df.reset_index(inplace=True)"
      ],
      "execution_count": null,
      "outputs": []
    },
    {
      "cell_type": "code",
      "metadata": {
        "id": "zdlVZYIiyjzN"
      },
      "source": [
        "frequenced_df.columns = ['ACILIS_TARIHI', 'value']"
      ],
      "execution_count": null,
      "outputs": []
    },
    {
      "cell_type": "code",
      "metadata": {
        "id": "oBpFSM6K1w9n"
      },
      "source": [
        "frequenced_df.plot(x='ACILIS_TARIHI', y='value', figsize= (40,10))"
      ],
      "execution_count": null,
      "outputs": []
    },
    {
      "cell_type": "code",
      "metadata": {
        "id": "wMFZpw8Wyupa"
      },
      "source": [
        "frequenced_df.to_csv('/content/drive/MyDrive/sariyer_sample.csv', index = False)"
      ],
      "execution_count": null,
      "outputs": []
    }
  ]
}