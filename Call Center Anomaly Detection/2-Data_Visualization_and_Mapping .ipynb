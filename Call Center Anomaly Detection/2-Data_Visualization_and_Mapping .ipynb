{
  "nbformat": 4,
  "nbformat_minor": 0,
  "metadata": {
    "colab": {
      "name": "Data Visualization and Mapping.ipynb",
      "provenance": [],
      "collapsed_sections": []
    },
    "kernelspec": {
      "name": "python3",
      "display_name": "Python 3"
    }
  },
  "cells": [
    {
      "cell_type": "markdown",
      "metadata": {
        "id": "1w0jnAocLe0Q"
      },
      "source": [
        "# Importing Libraries"
      ]
    },
    {
      "cell_type": "code",
      "metadata": {
        "id": "WKjNY9zDhiym"
      },
      "source": [
        "import pandas as pd\n",
        "import numpy as np\n",
        "import seaborn as sns\n",
        "import plotly.express as px\n",
        "import datetime\n",
        "import matplotlib.pyplot as plt\n",
        "datetime.datetime.strptime"
      ],
      "execution_count": null,
      "outputs": []
    },
    {
      "cell_type": "code",
      "metadata": {
        "id": "NteqEIOU-NWi"
      },
      "source": [
        "from sklearn.preprocessing import LabelEncoder\n",
        "import matplotlib.pyplot as plt\n",
        "import sqlite3\n",
        "from sklearn.preprocessing import LabelEncoder\n",
        "from sklearn.preprocessing import OneHotEncoder\n",
        "import seaborn as sns"
      ],
      "execution_count": null,
      "outputs": []
    },
    {
      "cell_type": "markdown",
      "metadata": {
        "id": "nuWZCCXiOqBb"
      },
      "source": [
        "# Loading&Reading Data"
      ]
    },
    {
      "cell_type": "code",
      "metadata": {
        "id": "i5nEquIlhlXs"
      },
      "source": [
        "df_call = pd.read_csv(\"/content/drive/MyDrive/ibb_data_mapping.csv\")\n",
        "df_loc = pd.read_csv('/content/drive/MyDrive/istanbul_ilce_koord_tr.csv', sep=';')\n",
        "df_population = pd.read_excel('/content/drive/MyDrive/2019-yl-belediye-nufuslar.xlsx')\n",
        "df_prepared = pd.read_csv(\"/content/drive/MyDrive/prepared_data.csv\")"
      ],
      "execution_count": null,
      "outputs": []
    },
    {
      "cell_type": "code",
      "metadata": {
        "id": "NUXB7RoJlUHr"
      },
      "source": [
        "df_prepared = pd.read_csv(\"/content/drive/MyDrive/Colab Notebooks/prepared_data\")"
      ],
      "execution_count": null,
      "outputs": []
    },
    {
      "cell_type": "code",
      "metadata": {
        "id": "T6vH0whm4Knt"
      },
      "source": [
        "df_prepared"
      ],
      "execution_count": null,
      "outputs": []
    },
    {
      "cell_type": "code",
      "metadata": {
        "id": "S8jJEWIN4R34"
      },
      "source": [
        "df_deneme = df_prepared.groupby('ILCE')['BASVURU_KODU'].count()\n",
        "df_deneme = df_deneme.rename_axis('ILCE').to_frame('Başvuru_sayısı')\n",
        "df_deneme.reset_index(inplace=True)\n",
        "pd.set_option('display.max_rows', None)\n",
        "df_deneme\n",
        "df_deneme2 = df_deneme.sort_values(by = ['Başvuru_sayısı'], ascending=False)\n",
        "x = df_deneme2['ILCE']\n",
        "y = df_deneme2['Başvuru_sayısı']"
      ],
      "execution_count": null,
      "outputs": []
    },
    {
      "cell_type": "code",
      "metadata": {
        "id": "NgmkM0k24b4I"
      },
      "source": [
        "plt.style.use('ggplot')\n",
        "\n",
        "plt.figure(figsize=(20, 10))  \n",
        "\n",
        "sns.barplot(x = df_deneme2['ILCE'], y =df_deneme2['Başvuru_sayısı']) \n",
        "\n",
        "plt.xticks(rotation=45)\n",
        "\n",
        "plt.xlabel(\"ILCE\")\n",
        "plt.ylabel(\"BAŞVURU SAYISI\")\n",
        "\n",
        "plt.title(\" \")\n"
      ],
      "execution_count": null,
      "outputs": []
    },
    {
      "cell_type": "code",
      "metadata": {
        "id": "bBSMVs7O4gLT"
      },
      "source": [
        "df_prepared['ACILIS_TARIHI'] = pd.to_datetime(df_prepared['ACILIS_TARIHI'],format='%Y/%m/%d %H:%M:%S')\n"
      ],
      "execution_count": null,
      "outputs": []
    },
    {
      "cell_type": "code",
      "metadata": {
        "id": "rJCcdnfi4qrb"
      },
      "source": [
        "df_prepared['SADE_ACILIS_TARIHI'] = df_prepared['ACILIS_TARIHI'].dt.date\n",
        "df_prepared[['ACILIS_TARIHI','SADE_ACILIS_TARIHI']].head()\n"
      ],
      "execution_count": null,
      "outputs": []
    },
    {
      "cell_type": "code",
      "metadata": {
        "id": "Mrn-zB-V46fY"
      },
      "source": [
        "pd.set_option('display.max_rows', None)"
      ],
      "execution_count": null,
      "outputs": []
    },
    {
      "cell_type": "code",
      "metadata": {
        "id": "yvFLeZX_46dM"
      },
      "source": [
        "df_prepared.groupby('SADE_ACILIS_TARIHI')['BASVURU_KODU'].count().head()"
      ],
      "execution_count": null,
      "outputs": []
    },
    {
      "cell_type": "code",
      "metadata": {
        "id": "dQ02YD8k46a8"
      },
      "source": [
        "df_dates = df_prepared.groupby('SADE_ACILIS_TARIHI')['BASVURU_KODU'].count()"
      ],
      "execution_count": null,
      "outputs": []
    },
    {
      "cell_type": "code",
      "metadata": {
        "id": "NZ3z5crX46Yu"
      },
      "source": [
        "df_dates = df_dates.rename_axis('SADE_ACILIS_TARIHI').to_frame('BASVURU_KODU')\n"
      ],
      "execution_count": null,
      "outputs": []
    },
    {
      "cell_type": "code",
      "metadata": {
        "id": "8FEmyLMb46Vf"
      },
      "source": [
        "df_dates.reset_index(inplace=True)\n"
      ],
      "execution_count": null,
      "outputs": []
    },
    {
      "cell_type": "code",
      "metadata": {
        "id": "E2rVkUuH46SP"
      },
      "source": [
        "df_dates.plot(x='SADE_ACILIS_TARIHI', y='BASVURU_KODU',figsize=(15,10))"
      ],
      "execution_count": null,
      "outputs": []
    },
    {
      "cell_type": "code",
      "metadata": {
        "id": "ySbi_hv5411U"
      },
      "source": [
        "df_anomali = df_dates.loc[252:]"
      ],
      "execution_count": null,
      "outputs": []
    },
    {
      "cell_type": "code",
      "metadata": {
        "id": "OkmO8_en41yw"
      },
      "source": [
        "df_anomali.plot(x='SADE_ACILIS_TARIHI', y='BASVURU_KODU', figsize= (15,10))\n"
      ],
      "execution_count": null,
      "outputs": []
    },
    {
      "cell_type": "markdown",
      "metadata": {
        "id": "UR2ArYmWY65Z"
      },
      "source": [
        "## Visualization Based on Population "
      ]
    },
    {
      "cell_type": "code",
      "metadata": {
        "id": "Jr_ATJN7Y6Ae"
      },
      "source": [
        "df_population.sort_values(by='2019 yılı nüfusları', ascending=False, inplace=True)"
      ],
      "execution_count": null,
      "outputs": []
    },
    {
      "cell_type": "code",
      "metadata": {
        "id": "0DmFmNUTY5-G"
      },
      "source": [
        "x=df_population['Belediyeler']\n",
        "y=df_population['2019 yılı nüfusları']\n",
        "\n",
        "plt.title('İlçeler Bazında Nüfus Dağılımı')\n",
        "plt.xlabel('İlçe')\n",
        "plt.ylabel('Nüfus')\n",
        "plt.bar(x,y, color = (0.5,0.1,0.5,0.6), align='edge', )\n",
        "#plt.xlabel('Saat', fontweight='bold', color = 'orange', fontsize='17', horizontalalignment='center')"
      ],
      "execution_count": null,
      "outputs": []
    },
    {
      "cell_type": "markdown",
      "metadata": {
        "id": "IWX27W_8ZSsg"
      },
      "source": [
        "## Mapping Based on Location and Calls Density"
      ]
    },
    {
      "cell_type": "code",
      "metadata": {
        "id": "2i6al0A9_BlK"
      },
      "source": [
        "df_loc[\"enlem\"] = df_loc[\"enlem\"].str.replace(\",\",\".\")\n",
        "df_loc[\"boylam\"] = df_loc[\"boylam\"].str.replace(\",\",\".\")\n",
        "df_loc[\"enlem\"] = df_loc[\"enlem\"].astype(float)\n",
        "df_loc[\"boylam\"] = df_loc[\"boylam\"].astype(float)"
      ],
      "execution_count": null,
      "outputs": []
    },
    {
      "cell_type": "code",
      "metadata": {
        "id": "gxROItkXoa2k"
      },
      "source": [
        "df_call.drop(columns='Unnamed: 0', inplace=True)"
      ],
      "execution_count": null,
      "outputs": []
    },
    {
      "cell_type": "code",
      "metadata": {
        "id": "qJk6GByEFNUG"
      },
      "source": [
        "df = df_call.merge(df_loc, left_on=\"ILCE\", right_on=\"ilce\")"
      ],
      "execution_count": null,
      "outputs": []
    },
    {
      "cell_type": "code",
      "metadata": {
        "id": "SaGeOHIOImsX"
      },
      "source": [
        "df.sort_values(by='TARIH',inplace=True)"
      ],
      "execution_count": null,
      "outputs": []
    },
    {
      "cell_type": "code",
      "metadata": {
        "id": "vFlE2PocJc9S"
      },
      "source": [
        "df.drop(labels=[0,269],axis='index', inplace=True)\n",
        "df.drop(columns=\"ilce\", inplace=True)"
      ],
      "execution_count": null,
      "outputs": []
    },
    {
      "cell_type": "code",
      "metadata": {
        "id": "aLmV3CMh6Zw9"
      },
      "source": [
        "df.reset_index(inplace=True)"
      ],
      "execution_count": null,
      "outputs": []
    },
    {
      "cell_type": "code",
      "metadata": {
        "id": "ULVDhnB16een"
      },
      "source": [
        "df.drop(columns='index', axis=1, inplace=True)"
      ],
      "execution_count": null,
      "outputs": []
    },
    {
      "cell_type": "code",
      "metadata": {
        "id": "Cz_jl2IK6qla"
      },
      "source": [
        "df.rename(columns={'level_0':'index'}, inplace=True)"
      ],
      "execution_count": null,
      "outputs": []
    },
    {
      "cell_type": "code",
      "metadata": {
        "id": "gbNYZNPb7SAp"
      },
      "source": [
        "df = df.loc[2080:]"
      ],
      "execution_count": null,
      "outputs": []
    },
    {
      "cell_type": "markdown",
      "metadata": {
        "id": "7CQf4AweOzbL"
      },
      "source": [
        "**Nisan ve Ekim ayları arasında lokasyona bağlı olarak gruplandırılmış gelen çağrı sayılarının yoğunluğunu gösteren Interaktif Mapping**"
      ]
    },
    {
      "cell_type": "code",
      "metadata": {
        "id": "RRPMpV41omXM"
      },
      "source": [
        "fig = px.scatter_mapbox(df, lat=\"enlem\", lon=\"boylam\", hover_name=\"ILCE\", hover_data=['TARIH','GUNLUK_CAGRI_SAYISI'],animation_frame=df[\"TARIH\"],\n",
        "                         size=\"GUNLUK_CAGRI_SAYISI\",color=\"GUNLUK_CAGRI_SAYISI\", zoom=9.5, height=600)\n",
        "fig.update_layout(mapbox_style=\"open-street-map\")\n",
        "fig.update_layout(margin={\"r\":0,\"t\":0,\"l\":0,\"b\":0})\n",
        "fig.show()"
      ],
      "execution_count": null,
      "outputs": []
    },
    {
      "cell_type": "code",
      "metadata": {
        "id": "BxYz1ZaQ-es8"
      },
      "source": [
        "from google.colab import drive\n",
        "drive.mount('/content/drive')"
      ],
      "execution_count": null,
      "outputs": []
    },
    {
      "cell_type": "code",
      "metadata": {
        "id": "DK75fMV_-Zgy"
      },
      "source": [
        "df_lokasyon = pd.read_csv(\"/content/drive/MyDrive/IBB_KODLUYORUZ/sample_giz.csv\")"
      ],
      "execution_count": null,
      "outputs": []
    },
    {
      "cell_type": "code",
      "metadata": {
        "id": "EjYZ6Xqt-sAK"
      },
      "source": [
        "df_lokasyon"
      ],
      "execution_count": null,
      "outputs": []
    },
    {
      "cell_type": "code",
      "metadata": {
        "id": "oyUnqdu8-sEw"
      },
      "source": [
        "labelencoder = LabelEncoder()"
      ],
      "execution_count": null,
      "outputs": []
    },
    {
      "cell_type": "code",
      "metadata": {
        "id": "369ivEkM-sHW"
      },
      "source": [
        "df_lokasyon['DURUM_CAT'] = labelencoder.fit_transform(df_lokasyon['DURUM'])\n",
        "df_lokasyon"
      ],
      "execution_count": null,
      "outputs": []
    },
    {
      "cell_type": "code",
      "metadata": {
        "id": "mOYX4xMN-ZoX"
      },
      "source": [
        "df_lokasyon.isnull().sum()"
      ],
      "execution_count": null,
      "outputs": []
    },
    {
      "cell_type": "code",
      "metadata": {
        "id": "gcyZJzEG-ZtR"
      },
      "source": [
        "x = df_lokasyon[\"MONTH_O\"]\n",
        "y = df_lokasyon['diff_month']"
      ],
      "execution_count": null,
      "outputs": []
    },
    {
      "cell_type": "code",
      "metadata": {
        "id": "1LTEbjGFGIwW"
      },
      "source": [
        "#Çağrı açılış ayının çağrının kapanma süresine göre Bubble Plot görselleştirmesi"
      ],
      "execution_count": null,
      "outputs": []
    },
    {
      "cell_type": "code",
      "metadata": {
        "id": "ynwqyYN1-Zwr"
      },
      "source": [
        "plt.scatter(x, y, c=x, cmap=\"Blues\", alpha=0.4, edgecolors=\"grey\", linewidth=2)\n",
        "plt.xlabel(\"Açılış Ayı\")\n",
        "plt.ylabel(\"Geçen Süre\")\n",
        "plt.title(\"A colored bubble plot\")\n",
        " \n",
        "plt.show()"
      ],
      "execution_count": null,
      "outputs": []
    },
    {
      "cell_type": "code",
      "metadata": {
        "id": "rOZNyMj8-ZzS"
      },
      "source": [
        "(df_lokasyon[\"KONU\"]).groupby"
      ],
      "execution_count": null,
      "outputs": []
    },
    {
      "cell_type": "code",
      "metadata": {
        "id": "XIjYXcCm_Bx8"
      },
      "source": [
        "df_lokasyon[\"KONU\"].value_counts().plot.barh()"
      ],
      "execution_count": null,
      "outputs": []
    },
    {
      "cell_type": "code",
      "metadata": {
        "id": "tQ7xSClFGYZI"
      },
      "source": [
        "#Hangi ilçe belediyeye hangi kanallar aracılığı ile ulaştığının görselleştirilmesi"
      ],
      "execution_count": null,
      "outputs": []
    },
    {
      "cell_type": "code",
      "metadata": {
        "id": "iFqDhPco_B5a"
      },
      "source": [
        "barWidth = 0.3\n",
        "# Choose the height of the blue bars\n",
        "bars1 = df_lokasyon[\"MONTH_O\"]\n",
        " \n",
        "# Choose the height of the cyan bars\n",
        "bars2 = df_lokasyon[\"MONTH_C\"]\n"
      ],
      "execution_count": null,
      "outputs": []
    },
    {
      "cell_type": "code",
      "metadata": {
        "id": "zoYbFjRt_B7v"
      },
      "source": [
        "height = df_lokasyon[\"KANAL\"]\n",
        "bars = df_lokasyon['ILCE']\n",
        "y_pos = np.arange(len(bars))\n",
        "plt.figure(figsize = (20, 15))\n",
        "plt.bar(y_pos, height, color = (0.5,0.1,0.5,0.6))\n",
        "\n",
        "plt.title('HANGİ İLÇE BELEDİYEYE NASIL ULAŞIYOR?')\n",
        "plt.xlabel('İLÇELER')\n",
        "plt.ylabel('KANAL')"
      ],
      "execution_count": null,
      "outputs": []
    },
    {
      "cell_type": "code",
      "metadata": {
        "id": "0D907ud8GjuX"
      },
      "source": [
        "#İlçeler ve çağrıların zamana göre ilişkisinin görselleştirilmesi"
      ],
      "execution_count": null,
      "outputs": []
    },
    {
      "cell_type": "code",
      "metadata": {
        "id": "qu3HCAoh_NAC"
      },
      "source": [
        "height = df_lokasyon[\"MONTH_O\"]\n",
        "bars = df_lokasyon['ILCE']\n",
        "y_pos = np.arange(len(bars))\n",
        "plt.figure(figsize = (20, 15))\n",
        "plt.bar(y_pos, height, color = (0.5,0.1,0.5,0.6))\n",
        "\n",
        "plt.title('İLÇELER VE BİLDİRİLEN SORUNLARIN ZAMANI İLİŞKİSİ')\n",
        "plt.xlabel('İLÇELER')\n",
        "plt.ylabel('AÇILIŞ AYI')"
      ],
      "execution_count": null,
      "outputs": []
    },
    {
      "cell_type": "code",
      "metadata": {
        "id": "JjYfH4yV_NCz"
      },
      "source": [
        "sns.regplot(x=df_lokasyon[\"MONTH_O\"], y=df_lokasyon[\"MONTH_C\"], marker=\"+\", fit_reg=False)"
      ],
      "execution_count": null,
      "outputs": []
    },
    {
      "cell_type": "code",
      "metadata": {
        "id": "0831nYS1GtjW"
      },
      "source": [
        "#Ilçelere göre konuların Stack Plot ile görselleştirilmesi"
      ],
      "execution_count": null,
      "outputs": []
    },
    {
      "cell_type": "code",
      "metadata": {
        "id": "K5nEh9RX_NGi"
      },
      "source": [
        "x=df_lokasyon['ILCE']\n",
        "y=df_lokasyon['KONU']\n",
        " \n",
        "# Plot\n",
        "plt.figure(figsize = (20, 15))\n",
        "plt.stackplot(x,y, df_lokasyon['ILCE'])\n",
        "plt.legend(loc='upper left')\n",
        "plt.show()"
      ],
      "execution_count": null,
      "outputs": []
    },
    {
      "cell_type": "code",
      "metadata": {
        "id": "N5qEbo3pG4yK"
      },
      "source": [
        "#ilçelere göre çağrıların kapanma sürelerinin Stack Plot ile görselleştirilmesi"
      ],
      "execution_count": null,
      "outputs": []
    },
    {
      "cell_type": "code",
      "metadata": {
        "id": "4hDWwG0x_NIn"
      },
      "source": [
        "x=df_lokasyon['ILCE']\n",
        "y=df_lokasyon['diff_days']\n",
        " \n",
        "# Plot\n",
        "plt.figure(figsize = (20, 15))\n",
        "plt.stackplot(x,y, df_lokasyon['diff_days'])\n",
        "plt.legend(loc='upper left')\n",
        "plt.show()"
      ],
      "execution_count": null,
      "outputs": []
    },
    {
      "cell_type": "code",
      "metadata": {
        "id": "cn-IrS8T_d3H"
      },
      "source": [
        "df2 = pd.read_csv('/content/drive/MyDrive/IBB_KODLUYORUZ/new_column_csv.csv', parse_dates= [\"ACILIS_TARIHI\", \"KAPANIS_TARIHI\", \"ONLY_OPEN_DATE\",\"ONLY_CLOSE_DATE\"])"
      ],
      "execution_count": null,
      "outputs": []
    },
    {
      "cell_type": "code",
      "metadata": {
        "id": "OEGugKNY_eC3"
      },
      "source": [
        "# change the type of timestamp column for plotting\n",
        "df2['ACILIS_TARIHI'] = pd.to_datetime(df2['ACILIS_TARIHI'])\n",
        "\n",
        "# plot the data\n",
        "df2.plot(x='ACILIS_TARIHI', y='MONTH_O')"
      ],
      "execution_count": null,
      "outputs": []
    },
    {
      "cell_type": "code",
      "metadata": {
        "id": "3XkroE2F_eE5"
      },
      "source": [
        "from sklearn.preprocessing import LabelEncoder\n",
        "# creating instance of labelencoder\n",
        "labelencoder = LabelEncoder()\n",
        "# Assigning numerical values and storing in another column\n",
        "df2['KANAL'] = labelencoder.fit_transform(df2['KANAL'])\n",
        "df2"
      ],
      "execution_count": null,
      "outputs": []
    },
    {
      "cell_type": "code",
      "metadata": {
        "id": "gscSIbPU_eHd"
      },
      "source": [
        "from sklearn.preprocessing import LabelEncoder\n",
        "# creating instance of labelencoder\n",
        "labelencoder = LabelEncoder()\n",
        "# Assigning numerical values and storing in another column\n",
        "df2['ILCE'] = labelencoder.fit_transform(df2['ILCE'])\n",
        "df2"
      ],
      "execution_count": null,
      "outputs": []
    },
    {
      "cell_type": "code",
      "metadata": {
        "id": "n0nhus9L_NPD"
      },
      "source": [
        "df2.plot(x='ACILIS_TARIHI', y='ILCE')"
      ],
      "execution_count": null,
      "outputs": []
    }
  ]
}