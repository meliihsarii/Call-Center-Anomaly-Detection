{
  "nbformat": 4,
  "nbformat_minor": 0,
  "metadata": {
    "colab": {
      "name": "AUTOENCODER MODEL",
      "provenance": []
    },
    "kernelspec": {
      "name": "python3",
      "display_name": "Python 3"
    },
    "language_info": {
      "name": "python"
    }
  },
  "cells": [
    {
      "cell_type": "code",
      "metadata": {
        "id": "yHqzA8Sz8xO1"
      },
      "source": [
        "import pandas as pd\n",
        "import numpy as np\n",
        "from tensorflow import keras\n",
        "from tensorflow.keras import layers\n",
        "from matplotlib import pyplot as plt\n",
        "from scipy import stats\n",
        "import tensorflow as tf"
      ],
      "execution_count": 4,
      "outputs": []
    },
    {
      "cell_type": "code",
      "metadata": {
        "id": "0A1Esmyw85tL",
        "colab": {
          "base_uri": "https://localhost:8080/"
        },
        "outputId": "4f9f9093-f247-42cc-ef8d-52770294dd91"
      },
      "source": [
        "from google.colab import drive\n",
        "drive.mount('/content/drive')"
      ],
      "execution_count": 5,
      "outputs": [
        {
          "output_type": "stream",
          "text": [
            "Mounted at /content/drive\n"
          ],
          "name": "stdout"
        }
      ]
    },
    {
      "cell_type": "markdown",
      "metadata": {
        "id": "WxivrT3G1GAU"
      },
      "source": [
        "#Load the data"
      ]
    },
    {
      "cell_type": "code",
      "metadata": {
        "colab": {
          "base_uri": "https://localhost:8080/"
        },
        "id": "1TGyiJSyNgMK",
        "outputId": "bbeae4bd-f276-4eae-a6ea-d077f6835248"
      },
      "source": [
        "df_s.shape"
      ],
      "execution_count": 10,
      "outputs": [
        {
          "output_type": "execute_result",
          "data": {
            "text/plain": [
              "(36238, 2)"
            ]
          },
          "metadata": {
            "tags": []
          },
          "execution_count": 10
        }
      ]
    },
    {
      "cell_type": "code",
      "metadata": {
        "colab": {
          "base_uri": "https://localhost:8080/",
          "height": 419
        },
        "id": "PF6jvrNNN0dz",
        "outputId": "ecccdfd0-3761-4748-c7c3-811bf8bf5c70"
      },
      "source": [
        "df_s"
      ],
      "execution_count": 13,
      "outputs": [
        {
          "output_type": "execute_result",
          "data": {
            "text/html": [
              "<div>\n",
              "<style scoped>\n",
              "    .dataframe tbody tr th:only-of-type {\n",
              "        vertical-align: middle;\n",
              "    }\n",
              "\n",
              "    .dataframe tbody tr th {\n",
              "        vertical-align: top;\n",
              "    }\n",
              "\n",
              "    .dataframe thead th {\n",
              "        text-align: right;\n",
              "    }\n",
              "</style>\n",
              "<table border=\"1\" class=\"dataframe\">\n",
              "  <thead>\n",
              "    <tr style=\"text-align: right;\">\n",
              "      <th></th>\n",
              "      <th>ACILIS_TARIHI</th>\n",
              "      <th>value</th>\n",
              "    </tr>\n",
              "  </thead>\n",
              "  <tbody>\n",
              "    <tr>\n",
              "      <th>0</th>\n",
              "      <td>2019-10-06 12:30:00</td>\n",
              "      <td>1</td>\n",
              "    </tr>\n",
              "    <tr>\n",
              "      <th>1</th>\n",
              "      <td>2019-10-06 12:45:00</td>\n",
              "      <td>0</td>\n",
              "    </tr>\n",
              "    <tr>\n",
              "      <th>2</th>\n",
              "      <td>2019-10-06 13:00:00</td>\n",
              "      <td>0</td>\n",
              "    </tr>\n",
              "    <tr>\n",
              "      <th>3</th>\n",
              "      <td>2019-10-06 13:15:00</td>\n",
              "      <td>0</td>\n",
              "    </tr>\n",
              "    <tr>\n",
              "      <th>4</th>\n",
              "      <td>2019-10-06 13:30:00</td>\n",
              "      <td>0</td>\n",
              "    </tr>\n",
              "    <tr>\n",
              "      <th>...</th>\n",
              "      <td>...</td>\n",
              "      <td>...</td>\n",
              "    </tr>\n",
              "    <tr>\n",
              "      <th>36233</th>\n",
              "      <td>2020-10-17 22:45:00</td>\n",
              "      <td>3</td>\n",
              "    </tr>\n",
              "    <tr>\n",
              "      <th>36234</th>\n",
              "      <td>2020-10-17 23:00:00</td>\n",
              "      <td>2</td>\n",
              "    </tr>\n",
              "    <tr>\n",
              "      <th>36235</th>\n",
              "      <td>2020-10-17 23:15:00</td>\n",
              "      <td>0</td>\n",
              "    </tr>\n",
              "    <tr>\n",
              "      <th>36236</th>\n",
              "      <td>2020-10-17 23:30:00</td>\n",
              "      <td>1</td>\n",
              "    </tr>\n",
              "    <tr>\n",
              "      <th>36237</th>\n",
              "      <td>2020-10-17 23:45:00</td>\n",
              "      <td>1</td>\n",
              "    </tr>\n",
              "  </tbody>\n",
              "</table>\n",
              "<p>36238 rows × 2 columns</p>\n",
              "</div>"
            ],
            "text/plain": [
              "             ACILIS_TARIHI  value\n",
              "0      2019-10-06 12:30:00      1\n",
              "1      2019-10-06 12:45:00      0\n",
              "2      2019-10-06 13:00:00      0\n",
              "3      2019-10-06 13:15:00      0\n",
              "4      2019-10-06 13:30:00      0\n",
              "...                    ...    ...\n",
              "36233  2020-10-17 22:45:00      3\n",
              "36234  2020-10-17 23:00:00      2\n",
              "36235  2020-10-17 23:15:00      0\n",
              "36236  2020-10-17 23:30:00      1\n",
              "36237  2020-10-17 23:45:00      1\n",
              "\n",
              "[36238 rows x 2 columns]"
            ]
          },
          "metadata": {
            "tags": []
          },
          "execution_count": 13
        }
      ]
    },
    {
      "cell_type": "code",
      "metadata": {
        "id": "22Kxncv-O-pR"
      },
      "source": [
        "df_s.set_index(\"ACILIS_TARIHI\",inplace=True)"
      ],
      "execution_count": 19,
      "outputs": []
    },
    {
      "cell_type": "code",
      "metadata": {
        "id": "j95nyZ6-OwE9"
      },
      "source": [
        "n=df_s.count().sum()"
      ],
      "execution_count": 22,
      "outputs": []
    },
    {
      "cell_type": "code",
      "metadata": {
        "colab": {
          "base_uri": "https://localhost:8080/"
        },
        "id": "_-26dJ9uMFwL",
        "outputId": "4b3369c4-c0bf-440f-d1d9-9de2f82cb5d2"
      },
      "source": [
        "df_s.info()"
      ],
      "execution_count": 11,
      "outputs": [
        {
          "output_type": "stream",
          "text": [
            "<class 'pandas.core.frame.DataFrame'>\n",
            "RangeIndex: 36238 entries, 0 to 36237\n",
            "Data columns (total 2 columns):\n",
            " #   Column         Non-Null Count  Dtype \n",
            "---  ------         --------------  ----- \n",
            " 0   ACILIS_TARIHI  36238 non-null  object\n",
            " 1   value          36238 non-null  int64 \n",
            "dtypes: int64(1), object(1)\n",
            "memory usage: 566.3+ KB\n"
          ],
          "name": "stdout"
        }
      ]
    },
    {
      "cell_type": "code",
      "metadata": {
        "id": "-b8Enn0mMIdP"
      },
      "source": [
        "df_s[\"value\"].mean()"
      ],
      "execution_count": null,
      "outputs": []
    },
    {
      "cell_type": "code",
      "metadata": {
        "id": "jnKco5uqMQYJ"
      },
      "source": [
        "s_array"
      ],
      "execution_count": null,
      "outputs": []
    },
    {
      "cell_type": "code",
      "metadata": {
        "id": "3QFs1Ia_MNuj"
      },
      "source": [
        "s_array = df_s[\"value\"].to_numpy() "
      ],
      "execution_count": null,
      "outputs": []
    },
    {
      "cell_type": "code",
      "metadata": {
        "id": "Ez8f6fmzMTjY"
      },
      "source": [
        "stats.zscore(s_array)"
      ],
      "execution_count": null,
      "outputs": []
    },
    {
      "cell_type": "code",
      "metadata": {
        "id": "bNxKk2ABMXAU"
      },
      "source": [
        "s_zscore = stats.zscore(s_array)"
      ],
      "execution_count": null,
      "outputs": []
    },
    {
      "cell_type": "code",
      "metadata": {
        "id": "esykzGfCMXC9"
      },
      "source": [
        "stats.zscore(s_array).mean()"
      ],
      "execution_count": null,
      "outputs": []
    },
    {
      "cell_type": "code",
      "metadata": {
        "id": "kealsy-4MXFQ"
      },
      "source": [
        "s_array.std()"
      ],
      "execution_count": null,
      "outputs": []
    },
    {
      "cell_type": "code",
      "metadata": {
        "id": "zWy24eVlMXJ_"
      },
      "source": [
        "math.sqrt(n)"
      ],
      "execution_count": null,
      "outputs": []
    },
    {
      "cell_type": "code",
      "metadata": {
        "id": "RvUjrDp_MXMv"
      },
      "source": [
        "s_mean = s_array.mean()\n",
        "s_std = s_array.std()\n",
        "s_sqrt = math.sqrt(n)"
      ],
      "execution_count": null,
      "outputs": []
    },
    {
      "cell_type": "code",
      "metadata": {
        "id": "WcGaGUPbMXPc"
      },
      "source": [
        "print(s_mean + s_zscore*(s_std/s_sqrt))\n",
        "print(s_mean - s_zscore*(s_std/s_sqrt))"
      ],
      "execution_count": null,
      "outputs": []
    },
    {
      "cell_type": "code",
      "metadata": {
        "id": "5UC-fa9KMXRo"
      },
      "source": [
        " my_array = s_mean + s_zscore*(s_std/s_sqrt)"
      ],
      "execution_count": null,
      "outputs": []
    },
    {
      "cell_type": "markdown",
      "metadata": {
        "id": "XPtG5WE31O3d"
      },
      "source": [
        "#Visualize the data"
      ]
    },
    {
      "cell_type": "code",
      "metadata": {
        "id": "Hh4EKFsJ1SSe",
        "colab": {
          "base_uri": "https://localhost:8080/",
          "height": 280
        },
        "outputId": "58d62c83-d0e3-49ac-a3ac-e7c3a9f94501"
      },
      "source": [
        "fig, ax = plt.subplots()\n",
        "df_s.plot(legend=False, ax=ax)\n",
        "plt.show()"
      ],
      "execution_count": 24,
      "outputs": [
        {
          "output_type": "display_data",
          "data": {
            "image/png": "[encoded data removed]",
            "text/plain": [
              "<Figure size 432x288 with 1 Axes>"
            ]
          },
          "metadata": {
            "tags": [],
            "needs_background": "light"
          }
        }
      ]
    },
    {
      "cell_type": "code",
      "metadata": {
        "id": "knzOz4gkG8gC",
        "colab": {
          "base_uri": "https://localhost:8080/",
          "height": 282
        },
        "outputId": "a756f682-d20c-44c2-d388-5bf834e08a9f"
      },
      "source": [
        "print('Box plot visualization:')\n",
        "df_s.plot(kind='box', figsize = (10,4))\n",
        "plt.show()"
      ],
      "execution_count": 26,
      "outputs": [
        {
          "output_type": "stream",
          "text": [
            "Box plot visualization:\n"
          ],
          "name": "stdout"
        },
        {
          "output_type": "display_data",
          "data": {
            "image/png": "[encoded data removed]",
            "text/plain": [
              "<Figure size 720x288 with 1 Axes>"
            ]
          },
          "metadata": {
            "tags": [],
            "needs_background": "light"
          }
        }
      ]
    },
    {
      "cell_type": "code",
      "metadata": {
        "id": "anpnKbSEHGsl",
        "colab": {
          "base_uri": "https://localhost:8080/",
          "height": 350
        },
        "outputId": "d174e76e-42ff-4ca4-edee-9659e111d007"
      },
      "source": [
        "import seaborn as sns\n",
        "fig,ax1=plt.subplots(ncols=1,figsize=(8,5))\n",
        "ax1.set_title(\"Scaling\")\n",
        "sns.kdeplot(df_s[\"value\"],ax=ax1)\n",
        "plt.show()"
      ],
      "execution_count": 28,
      "outputs": [
        {
          "output_type": "display_data",
          "data": {
            "image/png": "[encoded data removed]",
            "text/plain": [
              "<Figure size 576x360 with 1 Axes>"
            ]
          },
          "metadata": {
            "tags": [],
            "needs_background": "light"
          }
        }
      ]
    },
    {
      "cell_type": "markdown",
      "metadata": {
        "id": "Sx_UELAM1YUl"
      },
      "source": [
        "#Prepare training data"
      ]
    },
    {
      "cell_type": "code",
      "metadata": {
        "id": "aVO-7h101gML",
        "colab": {
          "base_uri": "https://localhost:8080/"
        },
        "outputId": "ed227ae7-b592-48d7-c776-6894355fbd4d"
      },
      "source": [
        "training_mean = df_s.mean()\n",
        "training_std = df_s.std()\n",
        "df_training_value = (df_s - training_mean) / training_std\n",
        "print(\"Number of training samples:\", len(df_training_value))"
      ],
      "execution_count": 30,
      "outputs": [
        {
          "output_type": "stream",
          "text": [
            "Number of training samples: 36238\n"
          ],
          "name": "stdout"
        }
      ]
    },
    {
      "cell_type": "markdown",
      "metadata": {
        "id": "Y9gIXv7x1zM-"
      },
      "source": [
        "Create sequences"
      ]
    },
    {
      "cell_type": "code",
      "metadata": {
        "id": "Y1Ah85uAJXpr",
        "colab": {
          "base_uri": "https://localhost:8080/"
        },
        "outputId": "e7a01f6f-f7a1-42f7-a37c-aed8b19167bf"
      },
      "source": [
        "# helper function\n",
        "TIME_STEPS =48\n",
        "\n",
        "# Generated training sequences for use in the model.\n",
        "def create_sequences(values, time_steps=TIME_STEPS):\n",
        "    output = []\n",
        "    for i in range(len(values) - time_steps):\n",
        "        output.append(values[i : (i + time_steps)])\n",
        "    return np.stack(output)\n",
        "\n",
        "\n",
        "x_train = create_sequences(df_training_value.values)\n",
        "print(\"Training input shape: \", x_train.shape)"
      ],
      "execution_count": 32,
      "outputs": [
        {
          "output_type": "stream",
          "text": [
            "Training input shape:  (36190, 48, 1)\n"
          ],
          "name": "stdout"
        }
      ]
    },
    {
      "cell_type": "markdown",
      "metadata": {
        "id": "5UkThhcU13ZB"
      },
      "source": [
        "#Build a model"
      ]
    },
    {
      "cell_type": "code",
      "metadata": {
        "id": "mWy62QheT82q",
        "colab": {
          "base_uri": "https://localhost:8080/"
        },
        "outputId": "4324cbc4-c957-415e-e39b-f404cf95b19d"
      },
      "source": [
        "model = keras.Sequential(\n",
        "    [\n",
        "        layers.Input(shape=(x_train.shape[1], x_train.shape[2])),\n",
        "        layers.Conv1D(\n",
        "            filters=32, kernel_size=7, padding=\"same\", strides=2, activation=\"relu\"\n",
        "        ),\n",
        "        layers.Dropout(rate=0.2),\n",
        "        layers.Conv1D(\n",
        "            filters=16, kernel_size=7, padding=\"same\", strides=2, activation=\"relu\"\n",
        "        ),\n",
        "        layers.Conv1DTranspose(\n",
        "            filters=16, kernel_size=7, padding=\"same\", strides=2, activation=\"relu\"\n",
        "        ),\n",
        "        layers.Dropout(rate=0.2),\n",
        "        layers.Conv1DTranspose(\n",
        "            filters=32, kernel_size=7, padding=\"same\", strides=2, activation=\"relu\"\n",
        "        ),\n",
        "        layers.Conv1DTranspose(filters=1, kernel_size=7, padding=\"same\"),\n",
        "    ]\n",
        ")\n",
        "model.compile(optimizer=keras.optimizers.Adam(learning_rate=0.001), loss=\"mse\")\n",
        "model.summary()"
      ],
      "execution_count": 35,
      "outputs": [
        {
          "output_type": "stream",
          "text": [
            "Model: \"sequential\"\n",
            "_________________________________________________________________\n",
            "Layer (type)                 Output Shape              Param #   \n",
            "=================================================================\n",
            "conv1d (Conv1D)              (None, 24, 32)            256       \n",
            "_________________________________________________________________\n",
            "dropout (Dropout)            (None, 24, 32)            0         \n",
            "_________________________________________________________________\n",
            "conv1d_1 (Conv1D)            (None, 12, 16)            3600      \n",
            "_________________________________________________________________\n",
            "conv1d_transpose (Conv1DTran (None, 24, 16)            1808      \n",
            "_________________________________________________________________\n",
            "dropout_1 (Dropout)          (None, 24, 16)            0         \n",
            "_________________________________________________________________\n",
            "conv1d_transpose_1 (Conv1DTr (None, 48, 32)            3616      \n",
            "_________________________________________________________________\n",
            "conv1d_transpose_2 (Conv1DTr (None, 48, 1)             225       \n",
            "=================================================================\n",
            "Total params: 9,505\n",
            "Trainable params: 9,505\n",
            "Non-trainable params: 0\n",
            "_________________________________________________________________\n"
          ],
          "name": "stdout"
        }
      ]
    },
    {
      "cell_type": "markdown",
      "metadata": {
        "id": "VsmPnJZd2R4-"
      },
      "source": [
        "#Train the model"
      ]
    },
    {
      "cell_type": "code",
      "metadata": {
        "id": "248CUQAUTmdX",
        "colab": {
          "base_uri": "https://localhost:8080/"
        },
        "outputId": "9d681eca-9b7b-4e17-9082-1d14a699581d"
      },
      "source": [
        "history = model.fit(\n",
        "    x_train,\n",
        "    x_train,\n",
        "    epochs=50,\n",
        "    batch_size=128,\n",
        "    validation_split=0.1,\n",
        "    callbacks=[\n",
        "        keras.callbacks.EarlyStopping(monitor=\"val_loss\", patience=5, mode=\"min\")\n",
        "    ],\n",
        ")"
      ],
      "execution_count": 37,
      "outputs": [
        {
          "output_type": "stream",
          "text": [
            "Epoch 1/50\n",
            "255/255 [==============================] - 7s 22ms/step - loss: 0.4008 - val_loss: 0.0738\n",
            "Epoch 2/50\n",
            "255/255 [==============================] - 5s 21ms/step - loss: 0.0741 - val_loss: 0.0372\n",
            "Epoch 3/50\n",
            "255/255 [==============================] - 5s 21ms/step - loss: 0.0543 - val_loss: 0.0430\n",
            "Epoch 4/50\n",
            "255/255 [==============================] - 5s 21ms/step - loss: 0.0445 - val_loss: 0.0402\n",
            "Epoch 5/50\n",
            "255/255 [==============================] - 5s 21ms/step - loss: 0.0382 - val_loss: 0.0415\n",
            "Epoch 6/50\n",
            "255/255 [==============================] - 5s 22ms/step - loss: 0.0327 - val_loss: 0.0628\n",
            "Epoch 7/50\n",
            "255/255 [==============================] - 5s 21ms/step - loss: 0.0289 - val_loss: 0.0701\n"
          ],
          "name": "stdout"
        }
      ]
    },
    {
      "cell_type": "markdown",
      "metadata": {
        "id": "TrZx39fJ2a9f"
      },
      "source": [
        "#Detecting anomalies"
      ]
    },
    {
      "cell_type": "markdown",
      "metadata": {
        "id": "e06mu3eI6ycS"
      },
      "source": [
        "We will detect anomalies by determining how well our model can reconstruct the input data.\n",
        "\n",
        "Find MAE loss on training samples.\n",
        "Find max MAE loss value. This is the worst our model has performed trying to reconstruct a sample. We will make this the threshold for anomaly detection.\n",
        "If the reconstruction loss for a sample is greater than this threshold value then we can infer that the model is seeing a pattern that it isn't familiar with. We will label this sample as an anomaly."
      ]
    },
    {
      "cell_type": "code",
      "metadata": {
        "id": "8UBszD1p4qIr",
        "colab": {
          "base_uri": "https://localhost:8080/",
          "height": 296
        },
        "outputId": "84815807-5471-4895-d129-7a3762d282b2"
      },
      "source": [
        "# Get train MAE loss.\n",
        "x_train_pred = model.predict(x_train)\n",
        "train_mae_loss = np.mean(np.abs(x_train_pred - x_train), axis=1)\n",
        "\n",
        "plt.hist(train_mae_loss, bins=50)\n",
        "plt.xlabel(\"Train MAE loss\")\n",
        "plt.ylabel(\"No of samples\")\n",
        "plt.show()\n",
        "\n",
        "# Get reconstruction loss threshold.\n",
        "threshold = np.max(train_mae_loss)\n",
        "print(\"Reconstruction error threshold: \", threshold)"
      ],
      "execution_count": 38,
      "outputs": [
        {
          "output_type": "display_data",
          "data": {
            "image/png": "[encoded data removed]",
            "text/plain": [
              "<Figure size 432x288 with 1 Axes>"
            ]
          },
          "metadata": {
            "tags": [],
            "needs_background": "light"
          }
        },
        {
          "output_type": "stream",
          "text": [
            "Reconstruction error threshold:  0.48756151236187173\n"
          ],
          "name": "stdout"
        }
      ]
    },
    {
      "cell_type": "code",
      "metadata": {
        "id": "i5Fao-izTou4",
        "colab": {
          "base_uri": "https://localhost:8080/",
          "height": 265
        },
        "outputId": "24bd448d-320e-4813-b98c-316bf53ac9da"
      },
      "source": [
        "plt.plot(history.history[\"loss\"], label=\"Training Loss\")\n",
        "plt.plot(history.history[\"val_loss\"], label=\"Validation Loss\")\n",
        "plt.legend()\n",
        "plt.show()"
      ],
      "execution_count": 39,
      "outputs": [
        {
          "output_type": "display_data",
          "data": {
            "image/png": "[encoded data removed]",
            "text/plain": [
              "<Figure size 432x288 with 1 Axes>"
            ]
          },
          "metadata": {
            "tags": [],
            "needs_background": "light"
          }
        }
      ]
    },
    {
      "cell_type": "code",
      "metadata": {
        "id": "jMk0g6sPz1cd",
        "colab": {
          "base_uri": "https://localhost:8080/",
          "height": 265
        },
        "outputId": "97b63d36-2954-48aa-b0cb-4b8c62ce9af1"
      },
      "source": [
        "plt.plot(x_train[0])\n",
        "plt.plot(x_train_pred[0])\n",
        "plt.show()"
      ],
      "execution_count": 40,
      "outputs": [
        {
          "output_type": "display_data",
          "data": {
            "image/png": "[encoded data removed]",
            "text/plain": [
              "<Figure size 432x288 with 1 Axes>"
            ]
          },
          "metadata": {
            "tags": [],
            "needs_background": "light"
          }
        }
      ]
    },
    {
      "cell_type": "code",
      "metadata": {
        "id": "YVWedPAZQeXq"
      },
      "source": [
        "# Detect all the samples which are anomalies.\n",
        "#anomalies = test_mae_loss > threshold\n",
        "print(\"Number of anomaly samples: \", np.sum(anomalies))\n",
        "print(\"Indices of anomaly samples: \", np.where(anomalies))"
      ],
      "execution_count": null,
      "outputs": []
    },
    {
      "cell_type": "code",
      "metadata": {
        "id": "Y_-DLiu1Qcjg"
      },
      "source": [
        "df_s[\"Outliers\"]=pd.Series(model.predict(df_s[[\"value\"]])).apply(lambda x: \"yes\" if( x==1) else \"no\")"
      ],
      "execution_count": null,
      "outputs": []
    },
    {
      "cell_type": "code",
      "metadata": {
        "id": "yFSunKM-QhZY"
      },
      "source": [
        "# data i is an anomaly if samples [(i - timesteps + 1) to (i)] are anomalies\n",
        "anomalous_data_indices = []\n",
        "for data_idx in range(TIME_STEPS - 1, len(df_test_value) - TIME_STEPS + 1):\n",
        "    if np.all(anomalies[data_idx - TIME_STEPS + 1 : data_idx]):\n",
        "        anomalous_data_indices.append(data_idx)"
      ],
      "execution_count": null,
      "outputs": []
    }
  ]
}